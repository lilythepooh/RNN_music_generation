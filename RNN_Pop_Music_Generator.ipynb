{
 "cells": [
  {
   "cell_type": "code",
   "execution_count": 157,
   "id": "a2292b7e",
   "metadata": {},
   "outputs": [
    {
     "name": "stdout",
     "output_type": "stream",
     "text": [
      "Requirement already satisfied: tensorflow in c:\\anaconda\\anaconda\\lib\\site-packages (2.8.0)\n",
      "Requirement already satisfied: google-pasta>=0.1.1 in c:\\anaconda\\anaconda\\lib\\site-packages (from tensorflow) (0.2.0)\n",
      "Requirement already satisfied: six>=1.12.0 in c:\\anaconda\\anaconda\\lib\\site-packages (from tensorflow) (1.16.0)\n",
      "Requirement already satisfied: numpy>=1.20 in c:\\anaconda\\anaconda\\lib\\site-packages (from tensorflow) (1.20.3)\n",
      "Requirement already satisfied: tensorboard<2.9,>=2.8 in c:\\anaconda\\anaconda\\lib\\site-packages (from tensorflow) (2.8.0)\n",
      "Requirement already satisfied: protobuf>=3.9.2 in c:\\anaconda\\anaconda\\lib\\site-packages (from tensorflow) (3.19.4)\n",
      "Requirement already satisfied: opt-einsum>=2.3.2 in c:\\anaconda\\anaconda\\lib\\site-packages (from tensorflow) (3.3.0)\n",
      "Requirement already satisfied: tensorflow-io-gcs-filesystem>=0.23.1 in c:\\anaconda\\anaconda\\lib\\site-packages (from tensorflow) (0.24.0)\n",
      "Requirement already satisfied: typing-extensions>=3.6.6 in c:\\anaconda\\anaconda\\lib\\site-packages (from tensorflow) (3.10.0.2)\n",
      "Requirement already satisfied: grpcio<2.0,>=1.24.3 in c:\\anaconda\\anaconda\\lib\\site-packages (from tensorflow) (1.43.0)\n",
      "Requirement already satisfied: libclang>=9.0.1 in c:\\anaconda\\anaconda\\lib\\site-packages (from tensorflow) (13.0.0)\n",
      "Requirement already satisfied: astunparse>=1.6.0 in c:\\anaconda\\anaconda\\lib\\site-packages (from tensorflow) (1.6.3)\n",
      "Requirement already satisfied: flatbuffers>=1.12 in c:\\anaconda\\anaconda\\lib\\site-packages (from tensorflow) (2.0)\n",
      "Requirement already satisfied: setuptools in c:\\anaconda\\anaconda\\lib\\site-packages (from tensorflow) (58.0.4)\n",
      "Requirement already satisfied: absl-py>=0.4.0 in c:\\anaconda\\anaconda\\lib\\site-packages (from tensorflow) (1.0.0)\n",
      "Requirement already satisfied: h5py>=2.9.0 in c:\\anaconda\\anaconda\\lib\\site-packages (from tensorflow) (3.2.1)\n",
      "Requirement already satisfied: wrapt>=1.11.0 in c:\\anaconda\\anaconda\\lib\\site-packages (from tensorflow) (1.12.1)\n",
      "Requirement already satisfied: gast>=0.2.1 in c:\\anaconda\\anaconda\\lib\\site-packages (from tensorflow) (0.5.3)\n",
      "Requirement already satisfied: tf-estimator-nightly==2.8.0.dev2021122109 in c:\\anaconda\\anaconda\\lib\\site-packages (from tensorflow) (2.8.0.dev2021122109)\n",
      "Requirement already satisfied: keras<2.9,>=2.8.0rc0 in c:\\anaconda\\anaconda\\lib\\site-packages (from tensorflow) (2.8.0)\n",
      "Requirement already satisfied: termcolor>=1.1.0 in c:\\anaconda\\anaconda\\lib\\site-packages (from tensorflow) (1.1.0)\n",
      "Requirement already satisfied: keras-preprocessing>=1.1.1 in c:\\anaconda\\anaconda\\lib\\site-packages (from tensorflow) (1.1.2)\n",
      "Requirement already satisfied: wheel<1.0,>=0.23.0 in c:\\anaconda\\anaconda\\lib\\site-packages (from astunparse>=1.6.0->tensorflow) (0.37.0)\n",
      "Requirement already satisfied: requests<3,>=2.21.0 in c:\\anaconda\\anaconda\\lib\\site-packages (from tensorboard<2.9,>=2.8->tensorflow) (2.26.0)\n",
      "Requirement already satisfied: tensorboard-plugin-wit>=1.6.0 in c:\\anaconda\\anaconda\\lib\\site-packages (from tensorboard<2.9,>=2.8->tensorflow) (1.8.1)\n",
      "Requirement already satisfied: google-auth<3,>=1.6.3 in c:\\anaconda\\anaconda\\lib\\site-packages (from tensorboard<2.9,>=2.8->tensorflow) (2.6.0)\n",
      "Requirement already satisfied: markdown>=2.6.8 in c:\\anaconda\\anaconda\\lib\\site-packages (from tensorboard<2.9,>=2.8->tensorflow) (3.3.6)\n",
      "Requirement already satisfied: werkzeug>=0.11.15 in c:\\anaconda\\anaconda\\lib\\site-packages (from tensorboard<2.9,>=2.8->tensorflow) (2.0.2)\n",
      "Requirement already satisfied: tensorboard-data-server<0.7.0,>=0.6.0 in c:\\anaconda\\anaconda\\lib\\site-packages (from tensorboard<2.9,>=2.8->tensorflow) (0.6.1)\n",
      "Requirement already satisfied: google-auth-oauthlib<0.5,>=0.4.1 in c:\\anaconda\\anaconda\\lib\\site-packages (from tensorboard<2.9,>=2.8->tensorflow) (0.4.6)\n",
      "Requirement already satisfied: rsa<5,>=3.1.4 in c:\\anaconda\\anaconda\\lib\\site-packages (from google-auth<3,>=1.6.3->tensorboard<2.9,>=2.8->tensorflow) (4.8)\n",
      "Requirement already satisfied: cachetools<6.0,>=2.0.0 in c:\\anaconda\\anaconda\\lib\\site-packages (from google-auth<3,>=1.6.3->tensorboard<2.9,>=2.8->tensorflow) (5.0.0)\n",
      "Requirement already satisfied: pyasn1-modules>=0.2.1 in c:\\anaconda\\anaconda\\lib\\site-packages (from google-auth<3,>=1.6.3->tensorboard<2.9,>=2.8->tensorflow) (0.2.8)\n",
      "Requirement already satisfied: requests-oauthlib>=0.7.0 in c:\\anaconda\\anaconda\\lib\\site-packages (from google-auth-oauthlib<0.5,>=0.4.1->tensorboard<2.9,>=2.8->tensorflow) (1.3.1)\n",
      "Requirement already satisfied: importlib-metadata>=4.4 in c:\\anaconda\\anaconda\\lib\\site-packages (from markdown>=2.6.8->tensorboard<2.9,>=2.8->tensorflow) (4.8.1)\n",
      "Requirement already satisfied: zipp>=0.5 in c:\\anaconda\\anaconda\\lib\\site-packages (from importlib-metadata>=4.4->markdown>=2.6.8->tensorboard<2.9,>=2.8->tensorflow) (3.6.0)\n",
      "Requirement already satisfied: pyasn1<0.5.0,>=0.4.6 in c:\\anaconda\\anaconda\\lib\\site-packages (from pyasn1-modules>=0.2.1->google-auth<3,>=1.6.3->tensorboard<2.9,>=2.8->tensorflow) (0.4.8)\n",
      "Requirement already satisfied: charset-normalizer~=2.0.0 in c:\\anaconda\\anaconda\\lib\\site-packages (from requests<3,>=2.21.0->tensorboard<2.9,>=2.8->tensorflow) (2.0.4)\n",
      "Requirement already satisfied: urllib3<1.27,>=1.21.1 in c:\\anaconda\\anaconda\\lib\\site-packages (from requests<3,>=2.21.0->tensorboard<2.9,>=2.8->tensorflow) (1.26.7)\n",
      "Requirement already satisfied: certifi>=2017.4.17 in c:\\anaconda\\anaconda\\lib\\site-packages (from requests<3,>=2.21.0->tensorboard<2.9,>=2.8->tensorflow) (2021.10.8)\n",
      "Requirement already satisfied: idna<4,>=2.5 in c:\\anaconda\\anaconda\\lib\\site-packages (from requests<3,>=2.21.0->tensorboard<2.9,>=2.8->tensorflow) (3.2)\n",
      "Requirement already satisfied: oauthlib>=3.0.0 in c:\\anaconda\\anaconda\\lib\\site-packages (from requests-oauthlib>=0.7.0->google-auth-oauthlib<0.5,>=0.4.1->tensorboard<2.9,>=2.8->tensorflow) (3.2.0)\n"
     ]
    }
   ],
   "source": [
    "!pip install tensorflow"
   ]
  },
  {
   "cell_type": "code",
   "execution_count": 158,
   "id": "95f83d23",
   "metadata": {},
   "outputs": [
    {
     "name": "stdout",
     "output_type": "stream",
     "text": [
      "Requirement already satisfied: pyfluidsynth in c:\\anaconda\\anaconda\\lib\\site-packages (1.3.0)\n",
      "Requirement already satisfied: numpy in c:\\anaconda\\anaconda\\lib\\site-packages (from pyfluidsynth) (1.20.3)\n"
     ]
    }
   ],
   "source": [
    "!pip install --upgrade pyfluidsynth"
   ]
  },
  {
   "cell_type": "code",
   "execution_count": 159,
   "id": "476312b0",
   "metadata": {},
   "outputs": [
    {
     "name": "stdout",
     "output_type": "stream",
     "text": [
      "Requirement already satisfied: fluidsynth in c:\\anaconda\\anaconda\\lib\\site-packages (0.2)\n"
     ]
    }
   ],
   "source": [
    "!pip install --upgrade fluidsynth"
   ]
  },
  {
   "cell_type": "code",
   "execution_count": 160,
   "id": "ebf070c4",
   "metadata": {},
   "outputs": [
    {
     "name": "stdout",
     "output_type": "stream",
     "text": [
      "Requirement already satisfied: pretty_midi in c:\\anaconda\\anaconda\\lib\\site-packages (0.2.9)\n",
      "Requirement already satisfied: numpy>=1.7.0 in c:\\anaconda\\anaconda\\lib\\site-packages (from pretty_midi) (1.20.3)\n",
      "Requirement already satisfied: six in c:\\anaconda\\anaconda\\lib\\site-packages (from pretty_midi) (1.16.0)\n",
      "Requirement already satisfied: mido>=1.1.16 in c:\\anaconda\\anaconda\\lib\\site-packages (from pretty_midi) (1.2.10)\n",
      "Requirement already satisfied: seaborn in c:\\anaconda\\anaconda\\lib\\site-packages (0.11.2)\n",
      "Requirement already satisfied: numpy>=1.15 in c:\\anaconda\\anaconda\\lib\\site-packages (from seaborn) (1.20.3)\n",
      "Requirement already satisfied: pandas>=0.23 in c:\\anaconda\\anaconda\\lib\\site-packages (from seaborn) (1.3.4)\n",
      "Requirement already satisfied: matplotlib>=2.2 in c:\\anaconda\\anaconda\\lib\\site-packages (from seaborn) (3.4.3)\n",
      "Requirement already satisfied: scipy>=1.0 in c:\\anaconda\\anaconda\\lib\\site-packages (from seaborn) (1.7.1)\n",
      "Requirement already satisfied: pyparsing>=2.2.1 in c:\\anaconda\\anaconda\\lib\\site-packages (from matplotlib>=2.2->seaborn) (3.0.4)\n",
      "Requirement already satisfied: pillow>=6.2.0 in c:\\anaconda\\anaconda\\lib\\site-packages (from matplotlib>=2.2->seaborn) (8.4.0)\n",
      "Requirement already satisfied: python-dateutil>=2.7 in c:\\anaconda\\anaconda\\lib\\site-packages (from matplotlib>=2.2->seaborn) (2.8.2)\n",
      "Requirement already satisfied: cycler>=0.10 in c:\\anaconda\\anaconda\\lib\\site-packages (from matplotlib>=2.2->seaborn) (0.10.0)\n",
      "Requirement already satisfied: kiwisolver>=1.0.1 in c:\\anaconda\\anaconda\\lib\\site-packages (from matplotlib>=2.2->seaborn) (1.3.1)\n",
      "Requirement already satisfied: six in c:\\anaconda\\anaconda\\lib\\site-packages (from cycler>=0.10->matplotlib>=2.2->seaborn) (1.16.0)\n",
      "Requirement already satisfied: pytz>=2017.3 in c:\\anaconda\\anaconda\\lib\\site-packages (from pandas>=0.23->seaborn) (2021.3)\n",
      "Requirement already satisfied: typing in c:\\anaconda\\anaconda\\lib\\site-packages (3.7.4.3)\n"
     ]
    }
   ],
   "source": [
    "!pip install pretty_midi\n",
    "!pip install seaborn\n",
    "!pip install typing"
   ]
  },
  {
   "cell_type": "code",
   "execution_count": 161,
   "id": "4ddeef3a",
   "metadata": {},
   "outputs": [],
   "source": [
    "import tensorflow as tf\n",
    "import collections\n",
    "import datetime\n",
    "import fluidsynth\n",
    "import functools\n",
    "import glob\n",
    "import pathlib\n",
    "import pandas as pd\n",
    "import pretty_midi\n",
    "import seaborn as sns\n",
    "import numpy as np\n",
    "import os\n",
    "import time\n",
    "import regex as re\n",
    "import subprocess\n",
    "import urllib\n",
    "import functools\n",
    "from IPython import display as ipythondisplay\n",
    "from tqdm import tqdm\n",
    "import matplotlib.pyplot as plt\n",
    "from typing import Dict, List, Optional, Sequence, Tuple"
   ]
  },
  {
   "cell_type": "code",
   "execution_count": 162,
   "id": "732733eb",
   "metadata": {},
   "outputs": [
    {
     "name": "stdout",
     "output_type": "stream",
     "text": [
      "Num GPUs Available:  0\n"
     ]
    }
   ],
   "source": [
    "print(\"Num GPUs Available: \", len(tf.config.list_physical_devices('GPU')))"
   ]
  },
  {
   "cell_type": "code",
   "execution_count": 163,
   "id": "93c22035",
   "metadata": {},
   "outputs": [
    {
     "ename": "AssertionError",
     "evalue": "",
     "output_type": "error",
     "traceback": [
      "\u001b[1;31m---------------------------------------------------------------------------\u001b[0m",
      "\u001b[1;31mAssertionError\u001b[0m                            Traceback (most recent call last)",
      "\u001b[1;32m~\\AppData\\Local\\Temp/ipykernel_18420/2955616566.py\u001b[0m in \u001b[0;36m<module>\u001b[1;34m\u001b[0m\n\u001b[1;32m----> 1\u001b[1;33m \u001b[1;32massert\u001b[0m \u001b[0mlen\u001b[0m\u001b[1;33m(\u001b[0m\u001b[0mtf\u001b[0m\u001b[1;33m.\u001b[0m\u001b[0mconfig\u001b[0m\u001b[1;33m.\u001b[0m\u001b[0mlist_physical_devices\u001b[0m\u001b[1;33m(\u001b[0m\u001b[1;34m'GPU'\u001b[0m\u001b[1;33m)\u001b[0m\u001b[1;33m)\u001b[0m\u001b[1;33m>\u001b[0m\u001b[1;36m0\u001b[0m\u001b[1;33m\u001b[0m\u001b[1;33m\u001b[0m\u001b[0m\n\u001b[0m",
      "\u001b[1;31mAssertionError\u001b[0m: "
     ]
    }
   ],
   "source": [
    "assert len(tf.config.list_physical_devices('GPU'))>0"
   ]
  },
  {
   "cell_type": "code",
   "execution_count": 164,
   "id": "8f3e39ae",
   "metadata": {},
   "outputs": [],
   "source": [
    "seed=1011\n",
    "tf.random.set_seed(seed)\n",
    "np.random.seed(seed)\n",
    "\n",
    "#sampling rate for audio playback\n",
    "_SAMPLING_RATE=16000"
   ]
  },
  {
   "cell_type": "code",
   "execution_count": 547,
   "id": "cb690a0e",
   "metadata": {},
   "outputs": [],
   "source": [
    "data_dir=pathlib.Path('midi_pop_music')"
   ]
  },
  {
   "cell_type": "code",
   "execution_count": 1001,
   "id": "6b2a09d9",
   "metadata": {},
   "outputs": [
    {
     "name": "stdout",
     "output_type": "stream",
     "text": [
      "Number of files: 21\n"
     ]
    }
   ],
   "source": [
    "filenames=glob.glob(str(data_dir/'*.mid*'))\n",
    "print('Number of files:',len(filenames))"
   ]
  },
  {
   "cell_type": "code",
   "execution_count": 1003,
   "id": "cf88504b",
   "metadata": {},
   "outputs": [
    {
     "name": "stdout",
     "output_type": "stream",
     "text": [
      "midi_pop_music\\Apologize (1).mid\n"
     ]
    }
   ],
   "source": [
    "sample_file=filenames[0]\n",
    "print(sample_file)"
   ]
  },
  {
   "cell_type": "code",
   "execution_count": 1004,
   "id": "25ca3679",
   "metadata": {},
   "outputs": [],
   "source": [
    "pm=pretty_midi.PrettyMIDI(sample_file)"
   ]
  },
  {
   "cell_type": "code",
   "execution_count": 1005,
   "id": "a6f9e54e",
   "metadata": {},
   "outputs": [
    {
     "name": "stdout",
     "output_type": "stream",
     "text": [
      "number of instruments: 2\n",
      "instrument name: Acoustic Grand Piano\n",
      "[Instrument(program=0, is_drum=False, name=\"PianoL\"), Instrument(program=0, is_drum=False, name=\"PianoL\")]\n"
     ]
    }
   ],
   "source": [
    "print('number of instruments:',len(pm.instruments))\n",
    "print('instrument name:',pretty_midi.program_to_instrument_name(pm.instruments[0].program))\n",
    "print(pm.instruments)"
   ]
  },
  {
   "cell_type": "code",
   "execution_count": 1006,
   "id": "f8afc118",
   "metadata": {},
   "outputs": [
    {
     "name": "stdout",
     "output_type": "stream",
     "text": [
      "[Note(start=0.000000, end=0.250000, pitch=60, velocity=85), Note(start=0.250000, end=0.500000, pitch=55, velocity=85), Note(start=0.500000, end=0.750000, pitch=60, velocity=85), Note(start=0.750000, end=1.000000, pitch=55, velocity=85), Note(start=0.000000, end=1.000000, pitch=63, velocity=85), Note(start=1.000000, end=1.250000, pitch=60, velocity=85), Note(start=1.250000, end=1.500000, pitch=55, velocity=85), Note(start=1.500000, end=1.750000, pitch=60, velocity=85), Note(start=1.750000, end=2.000000, pitch=55, velocity=85), Note(start=1.000000, end=2.000000, pitch=63, velocity=85), Note(start=2.000000, end=2.250000, pitch=60, velocity=85), Note(start=2.250000, end=2.500000, pitch=55, velocity=85), Note(start=2.500000, end=2.750000, pitch=60, velocity=85), Note(start=2.750000, end=3.000000, pitch=55, velocity=85), Note(start=2.000000, end=3.000000, pitch=65, velocity=85), Note(start=3.000000, end=3.250000, pitch=60, velocity=85), Note(start=3.250000, end=3.500000, pitch=55, velocity=85), Note(start=3.500000, end=3.750000, pitch=60, velocity=85), Note(start=3.750000, end=4.000000, pitch=55, velocity=85), Note(start=3.000000, end=4.000000, pitch=65, velocity=85), Note(start=4.000000, end=4.250000, pitch=58, velocity=85), Note(start=4.250000, end=4.500000, pitch=55, velocity=85), Note(start=4.500000, end=4.750000, pitch=58, velocity=85), Note(start=4.750000, end=5.000000, pitch=55, velocity=85), Note(start=4.000000, end=5.000000, pitch=63, velocity=85), Note(start=5.000000, end=5.250000, pitch=58, velocity=85), Note(start=5.250000, end=5.500000, pitch=55, velocity=85), Note(start=5.500000, end=5.750000, pitch=58, velocity=85), Note(start=5.750000, end=6.000000, pitch=55, velocity=85), Note(start=5.000000, end=6.000000, pitch=63, velocity=85), Note(start=6.000000, end=6.250000, pitch=58, velocity=85), Note(start=6.250000, end=6.500000, pitch=53, velocity=85), Note(start=6.500000, end=6.750000, pitch=58, velocity=85), Note(start=6.750000, end=7.000000, pitch=53, velocity=85), Note(start=6.000000, end=7.000000, pitch=62, velocity=106), Note(start=7.000000, end=7.250000, pitch=58, velocity=85), Note(start=7.250000, end=7.500000, pitch=53, velocity=85), Note(start=7.500000, end=7.750000, pitch=58, velocity=85), Note(start=7.750000, end=8.000000, pitch=53, velocity=85), Note(start=7.000000, end=8.000000, pitch=62, velocity=85), Note(start=8.000000, end=8.250000, pitch=60, velocity=85), Note(start=8.250000, end=8.500000, pitch=55, velocity=85), Note(start=8.500000, end=8.750000, pitch=60, velocity=85), Note(start=8.750000, end=9.000000, pitch=55, velocity=85), Note(start=8.000000, end=9.000000, pitch=63, velocity=85), Note(start=9.000000, end=9.250000, pitch=60, velocity=85), Note(start=9.250000, end=9.500000, pitch=55, velocity=85), Note(start=9.500000, end=9.750000, pitch=60, velocity=85), Note(start=9.750000, end=10.000000, pitch=55, velocity=85), Note(start=9.000000, end=10.000000, pitch=63, velocity=85), Note(start=10.000000, end=10.250000, pitch=60, velocity=85), Note(start=10.250000, end=10.500000, pitch=55, velocity=85), Note(start=10.500000, end=10.750000, pitch=60, velocity=85), Note(start=10.750000, end=11.000000, pitch=55, velocity=85), Note(start=10.000000, end=11.000000, pitch=65, velocity=85), Note(start=11.000000, end=11.250000, pitch=60, velocity=85), Note(start=11.250000, end=11.500000, pitch=55, velocity=85), Note(start=11.500000, end=11.750000, pitch=60, velocity=85), Note(start=11.750000, end=12.000000, pitch=55, velocity=85), Note(start=11.000000, end=12.000000, pitch=65, velocity=85), Note(start=12.000000, end=12.250000, pitch=58, velocity=85), Note(start=12.250000, end=12.500000, pitch=55, velocity=85), Note(start=12.500000, end=12.750000, pitch=58, velocity=85), Note(start=12.750000, end=13.000000, pitch=55, velocity=85), Note(start=12.000000, end=13.000000, pitch=63, velocity=85), Note(start=13.000000, end=13.250000, pitch=58, velocity=85), Note(start=13.250000, end=13.500000, pitch=55, velocity=85), Note(start=13.500000, end=13.750000, pitch=58, velocity=85), Note(start=13.750000, end=14.000000, pitch=55, velocity=85), Note(start=13.000000, end=14.000000, pitch=63, velocity=85), Note(start=14.000000, end=14.250000, pitch=58, velocity=85), Note(start=14.250000, end=14.500000, pitch=53, velocity=85), Note(start=14.500000, end=14.750000, pitch=58, velocity=85), Note(start=14.750000, end=15.000000, pitch=53, velocity=85), Note(start=14.000000, end=15.000000, pitch=62, velocity=85), Note(start=15.000000, end=15.250000, pitch=58, velocity=85), Note(start=15.250000, end=15.500000, pitch=53, velocity=85), Note(start=15.500000, end=15.750000, pitch=58, velocity=85), Note(start=15.750000, end=16.000000, pitch=67, velocity=85), Note(start=15.000000, end=16.000000, pitch=62, velocity=85), Note(start=16.000000, end=16.250000, pitch=72, velocity=85), Note(start=16.250000, end=16.500000, pitch=70, velocity=85), Note(start=16.500000, end=16.750000, pitch=72, velocity=85), Note(start=16.750000, end=17.000000, pitch=70, velocity=85), Note(start=17.000000, end=17.500000, pitch=70, velocity=85), Note(start=17.500000, end=17.750000, pitch=70, velocity=85), Note(start=16.000000, end=18.000000, pitch=67, velocity=85), Note(start=17.750000, end=18.000000, pitch=67, velocity=85), Note(start=16.000000, end=18.000000, pitch=63, velocity=85), Note(start=18.000000, end=18.500000, pitch=70, velocity=85), Note(start=18.500000, end=19.000000, pitch=70, velocity=85), Note(start=19.000000, end=19.500000, pitch=70, velocity=85), Note(start=18.000000, end=19.750000, pitch=65, velocity=85), Note(start=19.500000, end=19.750000, pitch=65, velocity=85), Note(start=19.750000, end=20.000000, pitch=67, velocity=85), Note(start=18.000000, end=20.000000, pitch=60, velocity=85), Note(start=20.000000, end=21.500000, pitch=63, velocity=85), Note(start=20.000000, end=21.500000, pitch=58, velocity=85), Note(start=21.750000, end=22.062500, pitch=63, velocity=85), Note(start=22.000000, end=23.000000, pitch=62, velocity=85), Note(start=22.000000, end=23.000000, pitch=58, velocity=85), Note(start=20.000000, end=23.500000, pitch=67, velocity=85), Note(start=23.500000, end=23.750000, pitch=67, velocity=85), Note(start=23.000000, end=24.000000, pitch=62, velocity=85), Note(start=23.000000, end=24.000000, pitch=58, velocity=85), Note(start=24.000000, end=24.250000, pitch=72, velocity=85), Note(start=24.250000, end=24.500000, pitch=70, velocity=85), Note(start=24.500000, end=24.750000, pitch=72, velocity=85), Note(start=24.750000, end=25.000000, pitch=70, velocity=85), Note(start=25.000000, end=25.500000, pitch=70, velocity=85), Note(start=25.500000, end=25.750000, pitch=70, velocity=85), Note(start=25.750000, end=26.000000, pitch=67, velocity=85), Note(start=26.000000, end=26.500000, pitch=70, velocity=85), Note(start=26.500000, end=27.000000, pitch=70, velocity=85), Note(start=27.000000, end=27.500000, pitch=70, velocity=85), Note(start=26.000000, end=27.750000, pitch=65, velocity=85), Note(start=27.500000, end=27.750000, pitch=65, velocity=85), Note(start=27.750000, end=28.000000, pitch=67, velocity=85), Note(start=26.000000, end=28.000000, pitch=60, velocity=85), Note(start=28.000000, end=29.500000, pitch=63, velocity=85), Note(start=28.000000, end=29.500000, pitch=58, velocity=85), Note(start=29.750000, end=30.062500, pitch=63, velocity=85), Note(start=30.000000, end=31.000000, pitch=62, velocity=85), Note(start=30.000000, end=31.000000, pitch=58, velocity=85), Note(start=28.000000, end=31.500000, pitch=67, velocity=85), Note(start=31.500000, end=31.750000, pitch=67, velocity=85), Note(start=31.000000, end=32.000000, pitch=62, velocity=85), Note(start=31.000000, end=32.000000, pitch=58, velocity=85), Note(start=32.000000, end=32.250000, pitch=72, velocity=85), Note(start=32.250000, end=32.500000, pitch=70, velocity=85), Note(start=32.500000, end=32.750000, pitch=72, velocity=85), Note(start=32.750000, end=33.000000, pitch=70, velocity=85), Note(start=33.000000, end=33.500000, pitch=72, velocity=85), Note(start=33.500000, end=34.000000, pitch=75, velocity=85), Note(start=32.000000, end=34.000000, pitch=63, velocity=85), Note(start=32.000000, end=34.000000, pitch=67, velocity=85), Note(start=34.000000, end=34.250000, pitch=72, velocity=85), Note(start=34.250000, end=34.500000, pitch=70, velocity=85), Note(start=34.500000, end=34.750000, pitch=72, velocity=85), Note(start=34.750000, end=35.000000, pitch=70, velocity=85), Note(start=35.000000, end=35.500000, pitch=72, velocity=85), Note(start=35.500000, end=35.750000, pitch=75, velocity=85), Note(start=34.000000, end=36.000000, pitch=65, velocity=85), Note(start=35.750000, end=37.500000, pitch=75, velocity=85), Note(start=37.500000, end=37.750000, pitch=70, velocity=85), Note(start=37.750000, end=38.000000, pitch=77, velocity=85), Note(start=36.000000, end=38.000000, pitch=63, velocity=85), Note(start=36.000000, end=38.000000, pitch=67, velocity=85), Note(start=38.000000, end=39.875000, pitch=77, velocity=85), Note(start=38.000000, end=40.000000, pitch=65, velocity=85), Note(start=38.000000, end=40.000000, pitch=70, velocity=85), Note(start=39.750000, end=40.000000, pitch=67, velocity=85), Note(start=40.000000, end=40.250000, pitch=72, velocity=85), Note(start=40.250000, end=40.500000, pitch=70, velocity=85), Note(start=40.500000, end=40.750000, pitch=72, velocity=85), Note(start=40.750000, end=41.000000, pitch=70, velocity=85), Note(start=41.000000, end=41.500000, pitch=72, velocity=85), Note(start=41.500000, end=42.000000, pitch=75, velocity=85), Note(start=40.000000, end=42.000000, pitch=67, velocity=85), Note(start=40.000000, end=42.000000, pitch=63, velocity=85), Note(start=42.000000, end=42.250000, pitch=72, velocity=85), Note(start=42.250000, end=42.500000, pitch=70, velocity=85), Note(start=42.500000, end=42.750000, pitch=72, velocity=85), Note(start=42.750000, end=43.000000, pitch=70, velocity=85), Note(start=43.000000, end=43.500000, pitch=72, velocity=85), Note(start=43.500000, end=43.750000, pitch=75, velocity=85), Note(start=42.000000, end=44.000000, pitch=65, velocity=85), Note(start=43.750000, end=45.500000, pitch=75, velocity=85), Note(start=45.500000, end=45.750000, pitch=70, velocity=85), Note(start=45.750000, end=46.000000, pitch=70, velocity=85), Note(start=44.000000, end=46.000000, pitch=67, velocity=85), Note(start=44.000000, end=46.000000, pitch=63, velocity=85), Note(start=46.000000, end=47.500000, pitch=77, velocity=85), Note(start=47.500000, end=47.750000, pitch=63, velocity=85), Note(start=47.750000, end=48.000000, pitch=63, velocity=85), Note(start=46.000000, end=48.000000, pitch=65, velocity=85), Note(start=46.000000, end=48.000000, pitch=70, velocity=85), Note(start=48.000000, end=48.250000, pitch=70, velocity=85), Note(start=48.250000, end=48.750000, pitch=70, velocity=85), Note(start=48.000000, end=49.000000, pitch=63, velocity=85), Note(start=48.750000, end=49.000000, pitch=63, velocity=85), Note(start=48.000000, end=49.000000, pitch=67, velocity=85), Note(start=49.000000, end=49.250000, pitch=63, velocity=85), Note(start=49.250000, end=49.500000, pitch=60, velocity=85), Note(start=49.500000, end=49.750000, pitch=63, velocity=85), Note(start=49.750000, end=51.500000, pitch=60, velocity=85), Note(start=51.750000, end=52.000000, pitch=63, velocity=85), Note(start=52.000000, end=52.250000, pitch=70, velocity=85), Note(start=52.000000, end=53.500000, pitch=67, velocity=85), Note(start=53.750000, end=54.000000, pitch=63, velocity=85), Note(start=52.250000, end=54.000000, pitch=70, velocity=85), Note(start=54.000000, end=55.000000, pitch=62, velocity=85), Note(start=54.000000, end=55.000000, pitch=58, velocity=85), Note(start=55.250000, end=55.500000, pitch=63, velocity=85), Note(start=55.500000, end=55.750000, pitch=63, velocity=85), Note(start=55.750000, end=56.000000, pitch=63, velocity=85), Note(start=55.000000, end=56.000000, pitch=62, velocity=85), Note(start=55.000000, end=56.000000, pitch=58, velocity=85), Note(start=56.000000, end=56.250000, pitch=70, velocity=85), Note(start=56.250000, end=56.750000, pitch=70, velocity=85), Note(start=56.000000, end=57.000000, pitch=63, velocity=85), Note(start=56.750000, end=57.000000, pitch=63, velocity=85), Note(start=56.000000, end=57.000000, pitch=67, velocity=85), Note(start=57.000000, end=57.250000, pitch=63, velocity=85), Note(start=57.250000, end=57.500000, pitch=60, velocity=85), Note(start=57.500000, end=58.500000, pitch=63, velocity=85), Note(start=58.500000, end=59.000000, pitch=60, velocity=85), Note(start=59.750000, end=60.000000, pitch=63, velocity=85), Note(start=60.000000, end=60.250000, pitch=70, velocity=85), Note(start=60.250000, end=60.500000, pitch=70, velocity=85), Note(start=60.000000, end=61.500000, pitch=67, velocity=85), Note(start=61.750000, end=62.000000, pitch=67, velocity=85), Note(start=61.750000, end=62.000000, pitch=63, velocity=85), Note(start=60.500000, end=62.000000, pitch=70, velocity=85), Note(start=62.000000, end=62.750000, pitch=65, velocity=85), Note(start=62.000000, end=62.750000, pitch=62, velocity=85), Note(start=62.750000, end=63.000000, pitch=67, velocity=85), Note(start=62.750000, end=63.000000, pitch=63, velocity=85), Note(start=63.000000, end=63.500000, pitch=65, velocity=85), Note(start=63.000000, end=63.500000, pitch=62, velocity=85), Note(start=63.500000, end=63.750000, pitch=67, velocity=85), Note(start=63.500000, end=63.750000, pitch=63, velocity=85), Note(start=63.750000, end=66.000000, pitch=63, velocity=85), Note(start=63.750000, end=66.000000, pitch=67, velocity=85), Note(start=66.000000, end=67.000000, pitch=60, velocity=85), Note(start=66.000000, end=67.000000, pitch=65, velocity=85), Note(start=67.000000, end=67.500000, pitch=60, velocity=85), Note(start=67.500000, end=69.500000, pitch=58, velocity=85), Note(start=68.000000, end=70.000000, pitch=63, velocity=85), Note(start=69.750000, end=70.000000, pitch=63, velocity=85), Note(start=68.000000, end=70.000000, pitch=67, velocity=85), Note(start=70.000000, end=71.000000, pitch=62, velocity=85), Note(start=70.000000, end=71.000000, pitch=58, velocity=85), Note(start=71.000000, end=71.500000, pitch=62, velocity=85), Note(start=71.000000, end=71.500000, pitch=58, velocity=85), Note(start=71.500000, end=71.750000, pitch=63, velocity=85), Note(start=71.750000, end=72.000000, pitch=60, velocity=85), Note(start=72.000000, end=72.250000, pitch=72, velocity=85), Note(start=72.250000, end=72.500000, pitch=70, velocity=85), Note(start=72.500000, end=72.750000, pitch=72, velocity=85), Note(start=72.750000, end=73.000000, pitch=70, velocity=85), Note(start=73.000000, end=73.500000, pitch=70, velocity=85), Note(start=73.500000, end=73.750000, pitch=70, velocity=85), Note(start=72.000000, end=74.000000, pitch=67, velocity=85), Note(start=73.750000, end=74.000000, pitch=67, velocity=85), Note(start=72.000000, end=74.000000, pitch=63, velocity=85), Note(start=74.000000, end=74.500000, pitch=70, velocity=85), Note(start=74.500000, end=75.000000, pitch=70, velocity=85), Note(start=75.000000, end=75.500000, pitch=70, velocity=85), Note(start=74.000000, end=75.750000, pitch=65, velocity=85), Note(start=75.500000, end=75.750000, pitch=65, velocity=85), Note(start=75.750000, end=76.000000, pitch=67, velocity=85), Note(start=74.000000, end=76.000000, pitch=60, velocity=85), Note(start=76.000000, end=77.500000, pitch=63, velocity=85), Note(start=76.000000, end=77.500000, pitch=58, velocity=85), Note(start=77.750000, end=78.062500, pitch=63, velocity=85), Note(start=78.000000, end=79.000000, pitch=62, velocity=85), Note(start=78.000000, end=79.000000, pitch=58, velocity=85), Note(start=76.000000, end=79.500000, pitch=67, velocity=85), Note(start=79.500000, end=79.750000, pitch=67, velocity=85), Note(start=79.000000, end=80.000000, pitch=62, velocity=85), Note(start=79.000000, end=80.000000, pitch=58, velocity=85), Note(start=80.000000, end=80.250000, pitch=72, velocity=85), Note(start=80.250000, end=80.500000, pitch=70, velocity=85), Note(start=80.500000, end=80.750000, pitch=72, velocity=85), Note(start=80.750000, end=81.000000, pitch=70, velocity=85), Note(start=81.000000, end=81.500000, pitch=70, velocity=85), Note(start=81.500000, end=81.750000, pitch=70, velocity=85), Note(start=81.750000, end=82.000000, pitch=67, velocity=85), Note(start=82.000000, end=82.500000, pitch=70, velocity=85), Note(start=82.500000, end=83.000000, pitch=70, velocity=85), Note(start=83.000000, end=83.500000, pitch=70, velocity=85), Note(start=82.000000, end=83.750000, pitch=65, velocity=85), Note(start=83.500000, end=83.750000, pitch=65, velocity=85), Note(start=83.750000, end=84.000000, pitch=67, velocity=85), Note(start=82.000000, end=84.000000, pitch=60, velocity=85), Note(start=84.000000, end=85.500000, pitch=63, velocity=85), Note(start=84.000000, end=85.500000, pitch=58, velocity=85), Note(start=85.750000, end=86.062500, pitch=63, velocity=85), Note(start=86.000000, end=87.000000, pitch=62, velocity=85), Note(start=86.000000, end=87.000000, pitch=58, velocity=85), Note(start=84.000000, end=87.500000, pitch=67, velocity=85), Note(start=87.500000, end=87.750000, pitch=67, velocity=85), Note(start=87.000000, end=88.000000, pitch=62, velocity=85), Note(start=87.000000, end=88.000000, pitch=58, velocity=85), Note(start=88.000000, end=88.250000, pitch=72, velocity=85), Note(start=88.250000, end=88.500000, pitch=70, velocity=85), Note(start=88.500000, end=88.750000, pitch=72, velocity=85), Note(start=88.750000, end=89.000000, pitch=70, velocity=85), Note(start=89.000000, end=89.500000, pitch=72, velocity=85), Note(start=89.500000, end=90.000000, pitch=75, velocity=85), Note(start=88.000000, end=90.000000, pitch=63, velocity=85), Note(start=88.000000, end=90.000000, pitch=67, velocity=85), Note(start=90.000000, end=90.250000, pitch=72, velocity=85), Note(start=90.250000, end=90.500000, pitch=70, velocity=85), Note(start=90.500000, end=90.750000, pitch=72, velocity=85), Note(start=90.750000, end=91.000000, pitch=70, velocity=85), Note(start=91.000000, end=91.500000, pitch=72, velocity=85), Note(start=91.500000, end=91.750000, pitch=75, velocity=85), Note(start=90.000000, end=92.000000, pitch=65, velocity=85), Note(start=91.750000, end=93.500000, pitch=75, velocity=85), Note(start=93.500000, end=93.750000, pitch=70, velocity=85), Note(start=93.750000, end=94.000000, pitch=77, velocity=85), Note(start=92.000000, end=94.000000, pitch=63, velocity=85), Note(start=92.000000, end=94.000000, pitch=67, velocity=85), Note(start=94.000000, end=95.875000, pitch=77, velocity=85), Note(start=94.000000, end=96.000000, pitch=65, velocity=85), Note(start=94.000000, end=96.000000, pitch=70, velocity=85), Note(start=95.750000, end=96.000000, pitch=67, velocity=85), Note(start=96.000000, end=96.250000, pitch=72, velocity=85), Note(start=96.250000, end=96.500000, pitch=70, velocity=85), Note(start=96.500000, end=96.750000, pitch=72, velocity=85), Note(start=96.750000, end=97.000000, pitch=70, velocity=85), Note(start=97.000000, end=97.500000, pitch=72, velocity=85), Note(start=97.500000, end=98.000000, pitch=75, velocity=85), Note(start=96.000000, end=98.000000, pitch=67, velocity=85), Note(start=96.000000, end=98.000000, pitch=63, velocity=85), Note(start=98.000000, end=98.250000, pitch=72, velocity=85), Note(start=98.250000, end=98.500000, pitch=70, velocity=85), Note(start=98.500000, end=98.750000, pitch=72, velocity=85), Note(start=98.750000, end=99.000000, pitch=70, velocity=85), Note(start=99.000000, end=99.500000, pitch=72, velocity=85), Note(start=99.500000, end=99.750000, pitch=75, velocity=85), Note(start=98.000000, end=100.000000, pitch=65, velocity=85), Note(start=99.750000, end=101.500000, pitch=75, velocity=85), Note(start=101.500000, end=101.750000, pitch=70, velocity=85), Note(start=101.750000, end=102.000000, pitch=70, velocity=85), Note(start=100.000000, end=102.000000, pitch=67, velocity=85), Note(start=100.000000, end=102.000000, pitch=63, velocity=85), Note(start=102.000000, end=103.500000, pitch=77, velocity=85), Note(start=103.500000, end=103.750000, pitch=63, velocity=85), Note(start=103.750000, end=104.000000, pitch=63, velocity=85), Note(start=102.000000, end=104.000000, pitch=65, velocity=85), Note(start=102.000000, end=104.000000, pitch=70, velocity=85), Note(start=104.000000, end=104.250000, pitch=70, velocity=85), Note(start=104.250000, end=104.750000, pitch=70, velocity=85), Note(start=104.000000, end=105.000000, pitch=63, velocity=85), Note(start=104.750000, end=105.000000, pitch=63, velocity=85), Note(start=104.000000, end=105.000000, pitch=67, velocity=85), Note(start=105.000000, end=105.250000, pitch=63, velocity=85), Note(start=105.250000, end=105.500000, pitch=60, velocity=85), Note(start=105.500000, end=105.750000, pitch=63, velocity=85), Note(start=105.750000, end=107.500000, pitch=60, velocity=85), Note(start=107.750000, end=108.000000, pitch=63, velocity=85), Note(start=108.000000, end=108.250000, pitch=70, velocity=85), Note(start=108.000000, end=109.500000, pitch=67, velocity=85), Note(start=109.750000, end=110.000000, pitch=63, velocity=85), Note(start=108.250000, end=110.000000, pitch=70, velocity=85), Note(start=110.000000, end=111.000000, pitch=62, velocity=85), Note(start=110.000000, end=111.000000, pitch=58, velocity=85), Note(start=111.250000, end=111.500000, pitch=63, velocity=85), Note(start=111.500000, end=111.750000, pitch=63, velocity=85), Note(start=111.750000, end=112.000000, pitch=63, velocity=85), Note(start=111.000000, end=112.000000, pitch=62, velocity=85), Note(start=111.000000, end=112.000000, pitch=58, velocity=85), Note(start=112.000000, end=112.250000, pitch=70, velocity=85), Note(start=112.250000, end=112.750000, pitch=70, velocity=85), Note(start=112.000000, end=113.000000, pitch=63, velocity=85), Note(start=112.750000, end=113.000000, pitch=63, velocity=85), Note(start=112.000000, end=113.000000, pitch=67, velocity=85), Note(start=113.000000, end=113.250000, pitch=63, velocity=85), Note(start=113.250000, end=113.500000, pitch=60, velocity=85), Note(start=113.500000, end=114.500000, pitch=63, velocity=85), Note(start=114.500000, end=115.000000, pitch=60, velocity=85), Note(start=115.750000, end=116.000000, pitch=63, velocity=85), Note(start=116.000000, end=116.250000, pitch=70, velocity=85), Note(start=116.250000, end=116.500000, pitch=70, velocity=85), Note(start=116.000000, end=117.500000, pitch=67, velocity=85), Note(start=117.750000, end=118.000000, pitch=67, velocity=85), Note(start=117.750000, end=118.000000, pitch=63, velocity=85), Note(start=116.500000, end=118.000000, pitch=70, velocity=85), Note(start=118.000000, end=118.750000, pitch=65, velocity=85), Note(start=118.000000, end=118.750000, pitch=62, velocity=85), Note(start=118.750000, end=119.000000, pitch=67, velocity=85), Note(start=118.750000, end=119.000000, pitch=63, velocity=85), Note(start=119.000000, end=119.500000, pitch=65, velocity=85), Note(start=119.000000, end=119.500000, pitch=62, velocity=85), Note(start=119.500000, end=119.750000, pitch=67, velocity=85), Note(start=119.500000, end=119.750000, pitch=63, velocity=85), Note(start=119.750000, end=122.000000, pitch=63, velocity=85), Note(start=119.750000, end=122.000000, pitch=67, velocity=85), Note(start=122.000000, end=123.000000, pitch=60, velocity=85), Note(start=122.000000, end=123.000000, pitch=65, velocity=85), Note(start=123.000000, end=123.500000, pitch=60, velocity=85), Note(start=123.500000, end=125.500000, pitch=58, velocity=85), Note(start=124.000000, end=126.000000, pitch=63, velocity=85), Note(start=125.750000, end=126.000000, pitch=63, velocity=85), Note(start=124.000000, end=126.000000, pitch=67, velocity=85), Note(start=126.000000, end=127.000000, pitch=62, velocity=85), Note(start=126.000000, end=127.000000, pitch=58, velocity=85), Note(start=127.000000, end=127.500000, pitch=62, velocity=85), Note(start=127.000000, end=127.500000, pitch=58, velocity=85), Note(start=127.500000, end=127.750000, pitch=63, velocity=85), Note(start=127.750000, end=128.000000, pitch=60, velocity=85), Note(start=128.000000, end=128.250000, pitch=72, velocity=85), Note(start=128.250000, end=128.500000, pitch=70, velocity=85), Note(start=128.500000, end=128.750000, pitch=72, velocity=85), Note(start=128.750000, end=129.000000, pitch=70, velocity=85), Note(start=129.000000, end=129.565072, pitch=70, velocity=85), Note(start=129.565072, end=129.934084, pitch=70, velocity=85), Note(start=128.000000, end=130.394269, pitch=67, velocity=85), Note(start=129.934084, end=130.394269, pitch=67, velocity=85), Note(start=128.000000, end=130.394269, pitch=63, velocity=85), Note(start=130.394269, end=130.894269, pitch=70, velocity=85), Note(start=130.894269, end=131.394269, pitch=70, velocity=85), Note(start=131.394269, end=132.394269, pitch=75, velocity=85), Note(start=132.394269, end=132.644269, pitch=67, velocity=85), Note(start=132.644269, end=132.894269, pitch=67, velocity=85), Note(start=130.394269, end=132.894269, pitch=65, velocity=85), Note(start=130.394269, end=132.894269, pitch=60, velocity=85), Note(start=132.894269, end=136.894269, pitch=58, velocity=85), Note(start=132.894269, end=136.894269, pitch=67, velocity=85), Note(start=132.894269, end=136.894269, pitch=63, velocity=85)]\n"
     ]
    }
   ],
   "source": [
    "instrument1=pm.instruments[0]\n",
    "instrument_name = pretty_midi.program_to_instrument_name(instrument1.program)\n",
    "print(instrument1.notes)"
   ]
  },
  {
   "cell_type": "code",
   "execution_count": 1007,
   "id": "75512018",
   "metadata": {},
   "outputs": [
    {
     "name": "stdout",
     "output_type": "stream",
     "text": [
      "0:pitch=60, note_name=C4, duration=0.2500\n",
      "1:pitch=55, note_name=G3, duration=0.2500\n",
      "2:pitch=60, note_name=C4, duration=0.2500\n",
      "3:pitch=55, note_name=G3, duration=0.2500\n",
      "4:pitch=63, note_name=D#4, duration=1.0000\n",
      "5:pitch=60, note_name=C4, duration=0.2500\n",
      "6:pitch=55, note_name=G3, duration=0.2500\n",
      "7:pitch=60, note_name=C4, duration=0.2500\n",
      "8:pitch=55, note_name=G3, duration=0.2500\n",
      "9:pitch=63, note_name=D#4, duration=1.0000\n",
      "10:pitch=60, note_name=C4, duration=0.2500\n",
      "11:pitch=55, note_name=G3, duration=0.2500\n",
      "12:pitch=60, note_name=C4, duration=0.2500\n",
      "13:pitch=55, note_name=G3, duration=0.2500\n",
      "14:pitch=65, note_name=F4, duration=1.0000\n",
      "15:pitch=60, note_name=C4, duration=0.2500\n",
      "16:pitch=55, note_name=G3, duration=0.2500\n",
      "17:pitch=60, note_name=C4, duration=0.2500\n",
      "18:pitch=55, note_name=G3, duration=0.2500\n",
      "19:pitch=65, note_name=F4, duration=1.0000\n",
      "20:pitch=58, note_name=A#3, duration=0.2500\n",
      "21:pitch=55, note_name=G3, duration=0.2500\n",
      "22:pitch=58, note_name=A#3, duration=0.2500\n",
      "23:pitch=55, note_name=G3, duration=0.2500\n",
      "24:pitch=63, note_name=D#4, duration=1.0000\n",
      "25:pitch=58, note_name=A#3, duration=0.2500\n",
      "26:pitch=55, note_name=G3, duration=0.2500\n",
      "27:pitch=58, note_name=A#3, duration=0.2500\n",
      "28:pitch=55, note_name=G3, duration=0.2500\n",
      "29:pitch=63, note_name=D#4, duration=1.0000\n",
      "30:pitch=58, note_name=A#3, duration=0.2500\n",
      "31:pitch=53, note_name=F3, duration=0.2500\n",
      "32:pitch=58, note_name=A#3, duration=0.2500\n",
      "33:pitch=53, note_name=F3, duration=0.2500\n",
      "34:pitch=62, note_name=D4, duration=1.0000\n",
      "35:pitch=58, note_name=A#3, duration=0.2500\n",
      "36:pitch=53, note_name=F3, duration=0.2500\n",
      "37:pitch=58, note_name=A#3, duration=0.2500\n",
      "38:pitch=53, note_name=F3, duration=0.2500\n",
      "39:pitch=62, note_name=D4, duration=1.0000\n",
      "40:pitch=60, note_name=C4, duration=0.2500\n",
      "41:pitch=55, note_name=G3, duration=0.2500\n",
      "42:pitch=60, note_name=C4, duration=0.2500\n",
      "43:pitch=55, note_name=G3, duration=0.2500\n",
      "44:pitch=63, note_name=D#4, duration=1.0000\n",
      "45:pitch=60, note_name=C4, duration=0.2500\n",
      "46:pitch=55, note_name=G3, duration=0.2500\n",
      "47:pitch=60, note_name=C4, duration=0.2500\n",
      "48:pitch=55, note_name=G3, duration=0.2500\n",
      "49:pitch=63, note_name=D#4, duration=1.0000\n",
      "50:pitch=60, note_name=C4, duration=0.2500\n",
      "51:pitch=55, note_name=G3, duration=0.2500\n",
      "52:pitch=60, note_name=C4, duration=0.2500\n",
      "53:pitch=55, note_name=G3, duration=0.2500\n",
      "54:pitch=65, note_name=F4, duration=1.0000\n",
      "55:pitch=60, note_name=C4, duration=0.2500\n",
      "56:pitch=55, note_name=G3, duration=0.2500\n",
      "57:pitch=60, note_name=C4, duration=0.2500\n",
      "58:pitch=55, note_name=G3, duration=0.2500\n",
      "59:pitch=65, note_name=F4, duration=1.0000\n",
      "60:pitch=58, note_name=A#3, duration=0.2500\n",
      "61:pitch=55, note_name=G3, duration=0.2500\n",
      "62:pitch=58, note_name=A#3, duration=0.2500\n",
      "63:pitch=55, note_name=G3, duration=0.2500\n",
      "64:pitch=63, note_name=D#4, duration=1.0000\n",
      "65:pitch=58, note_name=A#3, duration=0.2500\n",
      "66:pitch=55, note_name=G3, duration=0.2500\n",
      "67:pitch=58, note_name=A#3, duration=0.2500\n",
      "68:pitch=55, note_name=G3, duration=0.2500\n",
      "69:pitch=63, note_name=D#4, duration=1.0000\n",
      "70:pitch=58, note_name=A#3, duration=0.2500\n",
      "71:pitch=53, note_name=F3, duration=0.2500\n",
      "72:pitch=58, note_name=A#3, duration=0.2500\n",
      "73:pitch=53, note_name=F3, duration=0.2500\n",
      "74:pitch=62, note_name=D4, duration=1.0000\n",
      "75:pitch=58, note_name=A#3, duration=0.2500\n",
      "76:pitch=53, note_name=F3, duration=0.2500\n",
      "77:pitch=58, note_name=A#3, duration=0.2500\n",
      "78:pitch=67, note_name=G4, duration=0.2500\n",
      "79:pitch=62, note_name=D4, duration=1.0000\n",
      "80:pitch=72, note_name=C5, duration=0.2500\n",
      "81:pitch=70, note_name=A#4, duration=0.2500\n",
      "82:pitch=72, note_name=C5, duration=0.2500\n",
      "83:pitch=70, note_name=A#4, duration=0.2500\n",
      "84:pitch=70, note_name=A#4, duration=0.5000\n",
      "85:pitch=70, note_name=A#4, duration=0.2500\n",
      "86:pitch=67, note_name=G4, duration=2.0000\n",
      "87:pitch=67, note_name=G4, duration=0.2500\n",
      "88:pitch=63, note_name=D#4, duration=2.0000\n",
      "89:pitch=70, note_name=A#4, duration=0.5000\n",
      "90:pitch=70, note_name=A#4, duration=0.5000\n",
      "91:pitch=70, note_name=A#4, duration=0.5000\n",
      "92:pitch=65, note_name=F4, duration=1.7500\n",
      "93:pitch=65, note_name=F4, duration=0.2500\n",
      "94:pitch=67, note_name=G4, duration=0.2500\n",
      "95:pitch=60, note_name=C4, duration=2.0000\n",
      "96:pitch=63, note_name=D#4, duration=1.5000\n",
      "97:pitch=58, note_name=A#3, duration=1.5000\n",
      "98:pitch=63, note_name=D#4, duration=0.3125\n",
      "99:pitch=62, note_name=D4, duration=1.0000\n",
      "100:pitch=58, note_name=A#3, duration=1.0000\n",
      "101:pitch=67, note_name=G4, duration=3.5000\n",
      "102:pitch=67, note_name=G4, duration=0.2500\n",
      "103:pitch=62, note_name=D4, duration=1.0000\n",
      "104:pitch=58, note_name=A#3, duration=1.0000\n",
      "105:pitch=72, note_name=C5, duration=0.2500\n",
      "106:pitch=70, note_name=A#4, duration=0.2500\n",
      "107:pitch=72, note_name=C5, duration=0.2500\n",
      "108:pitch=70, note_name=A#4, duration=0.2500\n",
      "109:pitch=70, note_name=A#4, duration=0.5000\n",
      "110:pitch=70, note_name=A#4, duration=0.2500\n",
      "111:pitch=67, note_name=G4, duration=0.2500\n",
      "112:pitch=70, note_name=A#4, duration=0.5000\n",
      "113:pitch=70, note_name=A#4, duration=0.5000\n",
      "114:pitch=70, note_name=A#4, duration=0.5000\n",
      "115:pitch=65, note_name=F4, duration=1.7500\n",
      "116:pitch=65, note_name=F4, duration=0.2500\n",
      "117:pitch=67, note_name=G4, duration=0.2500\n",
      "118:pitch=60, note_name=C4, duration=2.0000\n",
      "119:pitch=63, note_name=D#4, duration=1.5000\n",
      "120:pitch=58, note_name=A#3, duration=1.5000\n",
      "121:pitch=63, note_name=D#4, duration=0.3125\n",
      "122:pitch=62, note_name=D4, duration=1.0000\n",
      "123:pitch=58, note_name=A#3, duration=1.0000\n",
      "124:pitch=67, note_name=G4, duration=3.5000\n",
      "125:pitch=67, note_name=G4, duration=0.2500\n",
      "126:pitch=62, note_name=D4, duration=1.0000\n",
      "127:pitch=58, note_name=A#3, duration=1.0000\n",
      "128:pitch=72, note_name=C5, duration=0.2500\n",
      "129:pitch=70, note_name=A#4, duration=0.2500\n",
      "130:pitch=72, note_name=C5, duration=0.2500\n",
      "131:pitch=70, note_name=A#4, duration=0.2500\n",
      "132:pitch=72, note_name=C5, duration=0.5000\n",
      "133:pitch=75, note_name=D#5, duration=0.5000\n",
      "134:pitch=63, note_name=D#4, duration=2.0000\n",
      "135:pitch=67, note_name=G4, duration=2.0000\n",
      "136:pitch=72, note_name=C5, duration=0.2500\n",
      "137:pitch=70, note_name=A#4, duration=0.2500\n",
      "138:pitch=72, note_name=C5, duration=0.2500\n",
      "139:pitch=70, note_name=A#4, duration=0.2500\n",
      "140:pitch=72, note_name=C5, duration=0.5000\n",
      "141:pitch=75, note_name=D#5, duration=0.2500\n",
      "142:pitch=65, note_name=F4, duration=2.0000\n",
      "143:pitch=75, note_name=D#5, duration=1.7500\n",
      "144:pitch=70, note_name=A#4, duration=0.2500\n",
      "145:pitch=77, note_name=F5, duration=0.2500\n",
      "146:pitch=63, note_name=D#4, duration=2.0000\n",
      "147:pitch=67, note_name=G4, duration=2.0000\n",
      "148:pitch=77, note_name=F5, duration=1.8750\n",
      "149:pitch=65, note_name=F4, duration=2.0000\n",
      "150:pitch=70, note_name=A#4, duration=2.0000\n",
      "151:pitch=67, note_name=G4, duration=0.2500\n",
      "152:pitch=72, note_name=C5, duration=0.2500\n",
      "153:pitch=70, note_name=A#4, duration=0.2500\n",
      "154:pitch=72, note_name=C5, duration=0.2500\n",
      "155:pitch=70, note_name=A#4, duration=0.2500\n",
      "156:pitch=72, note_name=C5, duration=0.5000\n",
      "157:pitch=75, note_name=D#5, duration=0.5000\n",
      "158:pitch=67, note_name=G4, duration=2.0000\n",
      "159:pitch=63, note_name=D#4, duration=2.0000\n",
      "160:pitch=72, note_name=C5, duration=0.2500\n",
      "161:pitch=70, note_name=A#4, duration=0.2500\n",
      "162:pitch=72, note_name=C5, duration=0.2500\n",
      "163:pitch=70, note_name=A#4, duration=0.2500\n",
      "164:pitch=72, note_name=C5, duration=0.5000\n",
      "165:pitch=75, note_name=D#5, duration=0.2500\n",
      "166:pitch=65, note_name=F4, duration=2.0000\n",
      "167:pitch=75, note_name=D#5, duration=1.7500\n",
      "168:pitch=70, note_name=A#4, duration=0.2500\n",
      "169:pitch=70, note_name=A#4, duration=0.2500\n",
      "170:pitch=67, note_name=G4, duration=2.0000\n",
      "171:pitch=63, note_name=D#4, duration=2.0000\n",
      "172:pitch=77, note_name=F5, duration=1.5000\n",
      "173:pitch=63, note_name=D#4, duration=0.2500\n",
      "174:pitch=63, note_name=D#4, duration=0.2500\n",
      "175:pitch=65, note_name=F4, duration=2.0000\n",
      "176:pitch=70, note_name=A#4, duration=2.0000\n",
      "177:pitch=70, note_name=A#4, duration=0.2500\n",
      "178:pitch=70, note_name=A#4, duration=0.5000\n",
      "179:pitch=63, note_name=D#4, duration=1.0000\n",
      "180:pitch=63, note_name=D#4, duration=0.2500\n",
      "181:pitch=67, note_name=G4, duration=1.0000\n",
      "182:pitch=63, note_name=D#4, duration=0.2500\n",
      "183:pitch=60, note_name=C4, duration=0.2500\n",
      "184:pitch=63, note_name=D#4, duration=0.2500\n",
      "185:pitch=60, note_name=C4, duration=1.7500\n",
      "186:pitch=63, note_name=D#4, duration=0.2500\n",
      "187:pitch=70, note_name=A#4, duration=0.2500\n",
      "188:pitch=67, note_name=G4, duration=1.5000\n",
      "189:pitch=63, note_name=D#4, duration=0.2500\n",
      "190:pitch=70, note_name=A#4, duration=1.7500\n",
      "191:pitch=62, note_name=D4, duration=1.0000\n",
      "192:pitch=58, note_name=A#3, duration=1.0000\n",
      "193:pitch=63, note_name=D#4, duration=0.2500\n",
      "194:pitch=63, note_name=D#4, duration=0.2500\n",
      "195:pitch=63, note_name=D#4, duration=0.2500\n",
      "196:pitch=62, note_name=D4, duration=1.0000\n",
      "197:pitch=58, note_name=A#3, duration=1.0000\n",
      "198:pitch=70, note_name=A#4, duration=0.2500\n",
      "199:pitch=70, note_name=A#4, duration=0.5000\n",
      "200:pitch=63, note_name=D#4, duration=1.0000\n",
      "201:pitch=63, note_name=D#4, duration=0.2500\n",
      "202:pitch=67, note_name=G4, duration=1.0000\n",
      "203:pitch=63, note_name=D#4, duration=0.2500\n",
      "204:pitch=60, note_name=C4, duration=0.2500\n",
      "205:pitch=63, note_name=D#4, duration=1.0000\n",
      "206:pitch=60, note_name=C4, duration=0.5000\n",
      "207:pitch=63, note_name=D#4, duration=0.2500\n",
      "208:pitch=70, note_name=A#4, duration=0.2500\n",
      "209:pitch=70, note_name=A#4, duration=0.2500\n",
      "210:pitch=67, note_name=G4, duration=1.5000\n",
      "211:pitch=67, note_name=G4, duration=0.2500\n",
      "212:pitch=63, note_name=D#4, duration=0.2500\n",
      "213:pitch=70, note_name=A#4, duration=1.5000\n",
      "214:pitch=65, note_name=F4, duration=0.7500\n",
      "215:pitch=62, note_name=D4, duration=0.7500\n",
      "216:pitch=67, note_name=G4, duration=0.2500\n",
      "217:pitch=63, note_name=D#4, duration=0.2500\n",
      "218:pitch=65, note_name=F4, duration=0.5000\n",
      "219:pitch=62, note_name=D4, duration=0.5000\n",
      "220:pitch=67, note_name=G4, duration=0.2500\n",
      "221:pitch=63, note_name=D#4, duration=0.2500\n",
      "222:pitch=63, note_name=D#4, duration=2.2500\n",
      "223:pitch=67, note_name=G4, duration=2.2500\n",
      "224:pitch=60, note_name=C4, duration=1.0000\n",
      "225:pitch=65, note_name=F4, duration=1.0000\n",
      "226:pitch=60, note_name=C4, duration=0.5000\n",
      "227:pitch=58, note_name=A#3, duration=2.0000\n",
      "228:pitch=63, note_name=D#4, duration=2.0000\n",
      "229:pitch=63, note_name=D#4, duration=0.2500\n",
      "230:pitch=67, note_name=G4, duration=2.0000\n",
      "231:pitch=62, note_name=D4, duration=1.0000\n",
      "232:pitch=58, note_name=A#3, duration=1.0000\n",
      "233:pitch=62, note_name=D4, duration=0.5000\n",
      "234:pitch=58, note_name=A#3, duration=0.5000\n",
      "235:pitch=63, note_name=D#4, duration=0.2500\n",
      "236:pitch=60, note_name=C4, duration=0.2500\n",
      "237:pitch=72, note_name=C5, duration=0.2500\n",
      "238:pitch=70, note_name=A#4, duration=0.2500\n",
      "239:pitch=72, note_name=C5, duration=0.2500\n",
      "240:pitch=70, note_name=A#4, duration=0.2500\n",
      "241:pitch=70, note_name=A#4, duration=0.5000\n",
      "242:pitch=70, note_name=A#4, duration=0.2500\n",
      "243:pitch=67, note_name=G4, duration=2.0000\n",
      "244:pitch=67, note_name=G4, duration=0.2500\n",
      "245:pitch=63, note_name=D#4, duration=2.0000\n",
      "246:pitch=70, note_name=A#4, duration=0.5000\n",
      "247:pitch=70, note_name=A#4, duration=0.5000\n",
      "248:pitch=70, note_name=A#4, duration=0.5000\n",
      "249:pitch=65, note_name=F4, duration=1.7500\n",
      "250:pitch=65, note_name=F4, duration=0.2500\n",
      "251:pitch=67, note_name=G4, duration=0.2500\n",
      "252:pitch=60, note_name=C4, duration=2.0000\n",
      "253:pitch=63, note_name=D#4, duration=1.5000\n",
      "254:pitch=58, note_name=A#3, duration=1.5000\n",
      "255:pitch=63, note_name=D#4, duration=0.3125\n",
      "256:pitch=62, note_name=D4, duration=1.0000\n",
      "257:pitch=58, note_name=A#3, duration=1.0000\n",
      "258:pitch=67, note_name=G4, duration=3.5000\n",
      "259:pitch=67, note_name=G4, duration=0.2500\n",
      "260:pitch=62, note_name=D4, duration=1.0000\n",
      "261:pitch=58, note_name=A#3, duration=1.0000\n",
      "262:pitch=72, note_name=C5, duration=0.2500\n",
      "263:pitch=70, note_name=A#4, duration=0.2500\n",
      "264:pitch=72, note_name=C5, duration=0.2500\n",
      "265:pitch=70, note_name=A#4, duration=0.2500\n",
      "266:pitch=70, note_name=A#4, duration=0.5000\n",
      "267:pitch=70, note_name=A#4, duration=0.2500\n",
      "268:pitch=67, note_name=G4, duration=0.2500\n",
      "269:pitch=70, note_name=A#4, duration=0.5000\n",
      "270:pitch=70, note_name=A#4, duration=0.5000\n",
      "271:pitch=70, note_name=A#4, duration=0.5000\n",
      "272:pitch=65, note_name=F4, duration=1.7500\n",
      "273:pitch=65, note_name=F4, duration=0.2500\n",
      "274:pitch=67, note_name=G4, duration=0.2500\n",
      "275:pitch=60, note_name=C4, duration=2.0000\n",
      "276:pitch=63, note_name=D#4, duration=1.5000\n",
      "277:pitch=58, note_name=A#3, duration=1.5000\n",
      "278:pitch=63, note_name=D#4, duration=0.3125\n",
      "279:pitch=62, note_name=D4, duration=1.0000\n",
      "280:pitch=58, note_name=A#3, duration=1.0000\n",
      "281:pitch=67, note_name=G4, duration=3.5000\n",
      "282:pitch=67, note_name=G4, duration=0.2500\n",
      "283:pitch=62, note_name=D4, duration=1.0000\n",
      "284:pitch=58, note_name=A#3, duration=1.0000\n",
      "285:pitch=72, note_name=C5, duration=0.2500\n",
      "286:pitch=70, note_name=A#4, duration=0.2500\n",
      "287:pitch=72, note_name=C5, duration=0.2500\n",
      "288:pitch=70, note_name=A#4, duration=0.2500\n",
      "289:pitch=72, note_name=C5, duration=0.5000\n",
      "290:pitch=75, note_name=D#5, duration=0.5000\n",
      "291:pitch=63, note_name=D#4, duration=2.0000\n",
      "292:pitch=67, note_name=G4, duration=2.0000\n",
      "293:pitch=72, note_name=C5, duration=0.2500\n",
      "294:pitch=70, note_name=A#4, duration=0.2500\n",
      "295:pitch=72, note_name=C5, duration=0.2500\n",
      "296:pitch=70, note_name=A#4, duration=0.2500\n",
      "297:pitch=72, note_name=C5, duration=0.5000\n",
      "298:pitch=75, note_name=D#5, duration=0.2500\n",
      "299:pitch=65, note_name=F4, duration=2.0000\n",
      "300:pitch=75, note_name=D#5, duration=1.7500\n",
      "301:pitch=70, note_name=A#4, duration=0.2500\n",
      "302:pitch=77, note_name=F5, duration=0.2500\n",
      "303:pitch=63, note_name=D#4, duration=2.0000\n",
      "304:pitch=67, note_name=G4, duration=2.0000\n",
      "305:pitch=77, note_name=F5, duration=1.8750\n",
      "306:pitch=65, note_name=F4, duration=2.0000\n",
      "307:pitch=70, note_name=A#4, duration=2.0000\n",
      "308:pitch=67, note_name=G4, duration=0.2500\n",
      "309:pitch=72, note_name=C5, duration=0.2500\n",
      "310:pitch=70, note_name=A#4, duration=0.2500\n",
      "311:pitch=72, note_name=C5, duration=0.2500\n",
      "312:pitch=70, note_name=A#4, duration=0.2500\n",
      "313:pitch=72, note_name=C5, duration=0.5000\n",
      "314:pitch=75, note_name=D#5, duration=0.5000\n",
      "315:pitch=67, note_name=G4, duration=2.0000\n",
      "316:pitch=63, note_name=D#4, duration=2.0000\n",
      "317:pitch=72, note_name=C5, duration=0.2500\n",
      "318:pitch=70, note_name=A#4, duration=0.2500\n",
      "319:pitch=72, note_name=C5, duration=0.2500\n",
      "320:pitch=70, note_name=A#4, duration=0.2500\n",
      "321:pitch=72, note_name=C5, duration=0.5000\n",
      "322:pitch=75, note_name=D#5, duration=0.2500\n",
      "323:pitch=65, note_name=F4, duration=2.0000\n",
      "324:pitch=75, note_name=D#5, duration=1.7500\n",
      "325:pitch=70, note_name=A#4, duration=0.2500\n",
      "326:pitch=70, note_name=A#4, duration=0.2500\n",
      "327:pitch=67, note_name=G4, duration=2.0000\n",
      "328:pitch=63, note_name=D#4, duration=2.0000\n",
      "329:pitch=77, note_name=F5, duration=1.5000\n",
      "330:pitch=63, note_name=D#4, duration=0.2500\n",
      "331:pitch=63, note_name=D#4, duration=0.2500\n",
      "332:pitch=65, note_name=F4, duration=2.0000\n",
      "333:pitch=70, note_name=A#4, duration=2.0000\n",
      "334:pitch=70, note_name=A#4, duration=0.2500\n",
      "335:pitch=70, note_name=A#4, duration=0.5000\n",
      "336:pitch=63, note_name=D#4, duration=1.0000\n",
      "337:pitch=63, note_name=D#4, duration=0.2500\n",
      "338:pitch=67, note_name=G4, duration=1.0000\n",
      "339:pitch=63, note_name=D#4, duration=0.2500\n",
      "340:pitch=60, note_name=C4, duration=0.2500\n",
      "341:pitch=63, note_name=D#4, duration=0.2500\n",
      "342:pitch=60, note_name=C4, duration=1.7500\n",
      "343:pitch=63, note_name=D#4, duration=0.2500\n",
      "344:pitch=70, note_name=A#4, duration=0.2500\n",
      "345:pitch=67, note_name=G4, duration=1.5000\n",
      "346:pitch=63, note_name=D#4, duration=0.2500\n",
      "347:pitch=70, note_name=A#4, duration=1.7500\n",
      "348:pitch=62, note_name=D4, duration=1.0000\n",
      "349:pitch=58, note_name=A#3, duration=1.0000\n",
      "350:pitch=63, note_name=D#4, duration=0.2500\n",
      "351:pitch=63, note_name=D#4, duration=0.2500\n",
      "352:pitch=63, note_name=D#4, duration=0.2500\n",
      "353:pitch=62, note_name=D4, duration=1.0000\n",
      "354:pitch=58, note_name=A#3, duration=1.0000\n",
      "355:pitch=70, note_name=A#4, duration=0.2500\n",
      "356:pitch=70, note_name=A#4, duration=0.5000\n",
      "357:pitch=63, note_name=D#4, duration=1.0000\n",
      "358:pitch=63, note_name=D#4, duration=0.2500\n",
      "359:pitch=67, note_name=G4, duration=1.0000\n",
      "360:pitch=63, note_name=D#4, duration=0.2500\n",
      "361:pitch=60, note_name=C4, duration=0.2500\n",
      "362:pitch=63, note_name=D#4, duration=1.0000\n",
      "363:pitch=60, note_name=C4, duration=0.5000\n",
      "364:pitch=63, note_name=D#4, duration=0.2500\n",
      "365:pitch=70, note_name=A#4, duration=0.2500\n",
      "366:pitch=70, note_name=A#4, duration=0.2500\n",
      "367:pitch=67, note_name=G4, duration=1.5000\n",
      "368:pitch=67, note_name=G4, duration=0.2500\n",
      "369:pitch=63, note_name=D#4, duration=0.2500\n",
      "370:pitch=70, note_name=A#4, duration=1.5000\n",
      "371:pitch=65, note_name=F4, duration=0.7500\n",
      "372:pitch=62, note_name=D4, duration=0.7500\n",
      "373:pitch=67, note_name=G4, duration=0.2500\n",
      "374:pitch=63, note_name=D#4, duration=0.2500\n",
      "375:pitch=65, note_name=F4, duration=0.5000\n",
      "376:pitch=62, note_name=D4, duration=0.5000\n",
      "377:pitch=67, note_name=G4, duration=0.2500\n",
      "378:pitch=63, note_name=D#4, duration=0.2500\n",
      "379:pitch=63, note_name=D#4, duration=2.2500\n",
      "380:pitch=67, note_name=G4, duration=2.2500\n",
      "381:pitch=60, note_name=C4, duration=1.0000\n",
      "382:pitch=65, note_name=F4, duration=1.0000\n",
      "383:pitch=60, note_name=C4, duration=0.5000\n",
      "384:pitch=58, note_name=A#3, duration=2.0000\n",
      "385:pitch=63, note_name=D#4, duration=2.0000\n",
      "386:pitch=63, note_name=D#4, duration=0.2500\n",
      "387:pitch=67, note_name=G4, duration=2.0000\n",
      "388:pitch=62, note_name=D4, duration=1.0000\n",
      "389:pitch=58, note_name=A#3, duration=1.0000\n",
      "390:pitch=62, note_name=D4, duration=0.5000\n",
      "391:pitch=58, note_name=A#3, duration=0.5000\n",
      "392:pitch=63, note_name=D#4, duration=0.2500\n",
      "393:pitch=60, note_name=C4, duration=0.2500\n",
      "394:pitch=72, note_name=C5, duration=0.2500\n",
      "395:pitch=70, note_name=A#4, duration=0.2500\n",
      "396:pitch=72, note_name=C5, duration=0.2500\n",
      "397:pitch=70, note_name=A#4, duration=0.2500\n",
      "398:pitch=70, note_name=A#4, duration=0.5651\n",
      "399:pitch=70, note_name=A#4, duration=0.3690\n",
      "400:pitch=67, note_name=G4, duration=2.3943\n",
      "401:pitch=67, note_name=G4, duration=0.4602\n",
      "402:pitch=63, note_name=D#4, duration=2.3943\n",
      "403:pitch=70, note_name=A#4, duration=0.5000\n",
      "404:pitch=70, note_name=A#4, duration=0.5000\n",
      "405:pitch=75, note_name=D#5, duration=1.0000\n",
      "406:pitch=67, note_name=G4, duration=0.2500\n",
      "407:pitch=67, note_name=G4, duration=0.2500\n",
      "408:pitch=65, note_name=F4, duration=2.5000\n",
      "409:pitch=60, note_name=C4, duration=2.5000\n",
      "410:pitch=58, note_name=A#3, duration=4.0000\n",
      "411:pitch=67, note_name=G4, duration=4.0000\n",
      "412:pitch=63, note_name=D#4, duration=4.0000\n"
     ]
    }
   ],
   "source": [
    "instrument0=pm.instruments[0]\n",
    "for i, note in enumerate(instrument0.notes[:]):\n",
    "    print(f'{i}:pitch={note.pitch}, note_name={pretty_midi.note_number_to_name(note.pitch)},'\n",
    "          f' duration={note.end-note.start:.4f}')"
   ]
  },
  {
   "cell_type": "code",
   "execution_count": 1008,
   "id": "07cca3bf",
   "metadata": {},
   "outputs": [],
   "source": [
    "def midi_to_notes(midi_file: str) -> pd.DataFrame:\n",
    "    pm = pretty_midi.PrettyMIDI(midi_file)\n",
    "    notes = collections.defaultdict(list)\n",
    "  #for i in range(len(pm.instruments)):\n",
    "    #if len((pm.instruments))<2:\n",
    "    instrument = pm.instruments[0]\n",
    "    #else:\n",
    "     #   instrument=pm.instruments[1]\n",
    "    \n",
    "  \n",
    "  # Sort the notes by start time\n",
    "    sorted_notes = sorted(instrument.notes, key=lambda note: note.start)\n",
    "    prev_start = sorted_notes[0].start\n",
    "        \n",
    "  \n",
    "    for note in sorted_notes:\n",
    "        start = note.start\n",
    "        end = note.end\n",
    "        notes['pitch'].append(note.pitch)\n",
    "        notes['start'].append(start)\n",
    "        notes['end'].append(end)\n",
    "        notes['step'].append(start - prev_start)\n",
    "        notes['duration'].append(end - start)\n",
    "        prev_start = start\n",
    "\n",
    "    return pd.DataFrame({name: np.array(value) for name, value in notes.items()})"
   ]
  },
  {
   "cell_type": "code",
   "execution_count": 1009,
   "id": "5880ccf2",
   "metadata": {},
   "outputs": [
    {
     "data": {
      "text/html": [
       "<div>\n",
       "<style scoped>\n",
       "    .dataframe tbody tr th:only-of-type {\n",
       "        vertical-align: middle;\n",
       "    }\n",
       "\n",
       "    .dataframe tbody tr th {\n",
       "        vertical-align: top;\n",
       "    }\n",
       "\n",
       "    .dataframe thead th {\n",
       "        text-align: right;\n",
       "    }\n",
       "</style>\n",
       "<table border=\"1\" class=\"dataframe\">\n",
       "  <thead>\n",
       "    <tr style=\"text-align: right;\">\n",
       "      <th></th>\n",
       "      <th>pitch</th>\n",
       "      <th>start</th>\n",
       "      <th>end</th>\n",
       "      <th>step</th>\n",
       "      <th>duration</th>\n",
       "    </tr>\n",
       "  </thead>\n",
       "  <tbody>\n",
       "    <tr>\n",
       "      <th>0</th>\n",
       "      <td>60</td>\n",
       "      <td>0.00</td>\n",
       "      <td>0.25</td>\n",
       "      <td>0.00</td>\n",
       "      <td>0.25</td>\n",
       "    </tr>\n",
       "    <tr>\n",
       "      <th>1</th>\n",
       "      <td>63</td>\n",
       "      <td>0.00</td>\n",
       "      <td>1.00</td>\n",
       "      <td>0.00</td>\n",
       "      <td>1.00</td>\n",
       "    </tr>\n",
       "    <tr>\n",
       "      <th>2</th>\n",
       "      <td>55</td>\n",
       "      <td>0.25</td>\n",
       "      <td>0.50</td>\n",
       "      <td>0.25</td>\n",
       "      <td>0.25</td>\n",
       "    </tr>\n",
       "    <tr>\n",
       "      <th>3</th>\n",
       "      <td>60</td>\n",
       "      <td>0.50</td>\n",
       "      <td>0.75</td>\n",
       "      <td>0.25</td>\n",
       "      <td>0.25</td>\n",
       "    </tr>\n",
       "    <tr>\n",
       "      <th>4</th>\n",
       "      <td>55</td>\n",
       "      <td>0.75</td>\n",
       "      <td>1.00</td>\n",
       "      <td>0.25</td>\n",
       "      <td>0.25</td>\n",
       "    </tr>\n",
       "  </tbody>\n",
       "</table>\n",
       "</div>"
      ],
      "text/plain": [
       "   pitch  start   end  step  duration\n",
       "0     60   0.00  0.25  0.00      0.25\n",
       "1     63   0.00  1.00  0.00      1.00\n",
       "2     55   0.25  0.50  0.25      0.25\n",
       "3     60   0.50  0.75  0.25      0.25\n",
       "4     55   0.75  1.00  0.25      0.25"
      ]
     },
     "execution_count": 1009,
     "metadata": {},
     "output_type": "execute_result"
    }
   ],
   "source": [
    "raw_notes = midi_to_notes(sample_file)\n",
    "raw_notes.head()"
   ]
  },
  {
   "cell_type": "code",
   "execution_count": 1010,
   "id": "f34a1c98",
   "metadata": {},
   "outputs": [
    {
     "data": {
      "text/plain": [
       "array(['C4', 'D#4', 'G3', 'C4', 'G3', 'C4', 'D#4', 'G3', 'C4', 'G3'],\n",
       "      dtype='<U3')"
      ]
     },
     "execution_count": 1010,
     "metadata": {},
     "output_type": "execute_result"
    }
   ],
   "source": [
    "get_note_names = np.vectorize(pretty_midi.note_number_to_name)\n",
    "sample_note_names = get_note_names(raw_notes['pitch'])\n",
    "sample_note_names[:10]"
   ]
  },
  {
   "cell_type": "code",
   "execution_count": 1011,
   "id": "d84dff19",
   "metadata": {},
   "outputs": [],
   "source": [
    "def plot_piano_roll(notes: pd.DataFrame, count: Optional[int] = None):\n",
    "  if count:\n",
    "    title = f'First {count} notes'\n",
    "  else:\n",
    "    title = f'Whole track'\n",
    "    count = len(notes['pitch'])\n",
    "  plt.figure(figsize=(20, 4))\n",
    "  plot_pitch = np.stack([notes['pitch'], notes['pitch']], axis=0)\n",
    "  plot_start_stop = np.stack([notes['start'], notes['end']], axis=0)\n",
    "  plt.plot(\n",
    "      plot_start_stop[:, :count], plot_pitch[:, :count], color=\"b\", marker=\".\")\n",
    "  plt.xlabel('Time [s]')\n",
    "  plt.ylabel('Pitch')\n",
    "  _ = plt.title(title)"
   ]
  },
  {
   "cell_type": "code",
   "execution_count": 1012,
   "id": "48c887ab",
   "metadata": {},
   "outputs": [
    {
     "data": {
      "image/png": "[encoded data removed]",
      "text/plain": [
       "<Figure size 1440x288 with 1 Axes>"
      ]
     },
     "metadata": {
      "needs_background": "light"
     },
     "output_type": "display_data"
    }
   ],
   "source": [
    "plot_piano_roll(raw_notes, count=100)"
   ]
  },
  {
   "cell_type": "code",
   "execution_count": 1013,
   "id": "e62e1e4b",
   "metadata": {},
   "outputs": [
    {
     "data": {
      "image/png": "[encoded data removed]",
      "text/plain": [
       "<Figure size 1440x288 with 1 Axes>"
      ]
     },
     "metadata": {
      "needs_background": "light"
     },
     "output_type": "display_data"
    }
   ],
   "source": [
    "plot_piano_roll(raw_notes)"
   ]
  },
  {
   "cell_type": "code",
   "execution_count": 1014,
   "id": "531c1bb1",
   "metadata": {},
   "outputs": [],
   "source": [
    "def plot_distributions(notes: pd.DataFrame, drop_percentile=2.5):\n",
    "  plt.figure(figsize=[15, 5])\n",
    "  plt.subplot(1, 3, 1)\n",
    "  sns.histplot(notes, x=\"pitch\", bins=20)\n",
    "\n",
    "  plt.subplot(1, 3, 2)\n",
    "  max_step = np.percentile(notes['step'], 100 - drop_percentile)\n",
    "  sns.histplot(notes, x=\"step\", bins=np.linspace(0, max_step, 21))\n",
    "  \n",
    "  plt.subplot(1, 3, 3)\n",
    "  max_duration = np.percentile(notes['duration'], 100 - drop_percentile)\n",
    "  sns.histplot(notes, x=\"duration\", bins=np.linspace(0, max_duration, 21))"
   ]
  },
  {
   "cell_type": "code",
   "execution_count": 1015,
   "id": "5d558b72",
   "metadata": {},
   "outputs": [
    {
     "data": {
      "image/png": "[encoded data removed]",
      "text/plain": [
       "<Figure size 1080x360 with 3 Axes>"
      ]
     },
     "metadata": {
      "needs_background": "light"
     },
     "output_type": "display_data"
    }
   ],
   "source": [
    "plot_distributions(raw_notes)"
   ]
  },
  {
   "cell_type": "code",
   "execution_count": 1016,
   "id": "6d1e822f",
   "metadata": {},
   "outputs": [],
   "source": [
    "def notes_to_midi(\n",
    "  notes: pd.DataFrame,\n",
    "  out_file: str, \n",
    "  instrument_name: str,\n",
    "  velocity: int = 100,  # note loudness\n",
    ") -> pretty_midi.PrettyMIDI:\n",
    "\n",
    "  pm = pretty_midi.PrettyMIDI()\n",
    "  instrument = pretty_midi.Instrument(\n",
    "      program=pretty_midi.instrument_name_to_program(\n",
    "          instrument_name))\n",
    "\n",
    "  prev_start = 0\n",
    "  for i, note in notes.iterrows():\n",
    "    start = float(prev_start + note['step'])\n",
    "    end = float(start + note['duration'])\n",
    "    note = pretty_midi.Note(\n",
    "        velocity=velocity,\n",
    "        pitch=int(note['pitch']),\n",
    "        start=start,\n",
    "        end=end,\n",
    "    )\n",
    "    instrument.notes.append(note)\n",
    "    prev_start = start\n",
    "\n",
    "  pm.instruments.append(instrument)\n",
    "  pm.write(out_file)\n",
    "  return pm"
   ]
  },
  {
   "cell_type": "code",
   "execution_count": 1018,
   "id": "f39f6f09",
   "metadata": {},
   "outputs": [],
   "source": [
    "num_files = 21\n",
    "all_notes = []\n",
    "for f in filenames[:num_files]:\n",
    "  notes = midi_to_notes(f)\n",
    "  all_notes.append(notes)\n",
    "\n",
    "all_notes = pd.concat(all_notes)"
   ]
  },
  {
   "cell_type": "code",
   "execution_count": 1019,
   "id": "4927afa2",
   "metadata": {},
   "outputs": [
    {
     "name": "stdout",
     "output_type": "stream",
     "text": [
      "Number of notes parsed: 14702\n"
     ]
    }
   ],
   "source": [
    "n_notes = len(all_notes)\n",
    "print('Number of notes parsed:', n_notes)"
   ]
  },
  {
   "cell_type": "code",
   "execution_count": 1020,
   "id": "659eacd4",
   "metadata": {},
   "outputs": [],
   "source": [
    "key_order = ['pitch', 'step', 'duration']\n",
    "train_notes = np.stack([all_notes[key] for key in key_order], axis=1)"
   ]
  },
  {
   "cell_type": "code",
   "execution_count": 1021,
   "id": "5e0b7a41",
   "metadata": {},
   "outputs": [
    {
     "data": {
      "text/plain": [
       "TensorSpec(shape=(3,), dtype=tf.float64, name=None)"
      ]
     },
     "execution_count": 1021,
     "metadata": {},
     "output_type": "execute_result"
    }
   ],
   "source": [
    "notes_ds = tf.data.Dataset.from_tensor_slices(train_notes)\n",
    "notes_ds.element_spec"
   ]
  },
  {
   "cell_type": "code",
   "execution_count": 1022,
   "id": "dd8bdbd7",
   "metadata": {},
   "outputs": [],
   "source": [
    "def create_sequences(\n",
    "    dataset: tf.data.Dataset, \n",
    "    seq_length: int,\n",
    "    vocab_size = 128,\n",
    ") -> tf.data.Dataset:\n",
    "  \"\"\"Returns TF Dataset of sequence and label examples.\"\"\"\n",
    "  seq_length = seq_length+1\n",
    "\n",
    "  # Take 1 extra for the labels\n",
    "  windows = dataset.window(seq_length, shift=1, stride=1,\n",
    "                              drop_remainder=True)\n",
    "\n",
    "  # `flat_map` flattens the\" dataset of datasets\" into a dataset of tensors\n",
    "  flatten = lambda x: x.batch(seq_length, drop_remainder=True)\n",
    "  sequences = windows.flat_map(flatten)\n",
    "  \n",
    "  # Normalize note pitch\n",
    "  def scale_pitch(x):\n",
    "    x = x/[vocab_size,1.0,1.0]\n",
    "    return x\n",
    "\n",
    "  # Split the labels\n",
    "  def split_labels(sequences):\n",
    "    inputs = sequences[:-1]\n",
    "    labels_dense = sequences[-1]\n",
    "    labels = {key:labels_dense[i] for i,key in enumerate(key_order)}\n",
    "\n",
    "    return scale_pitch(inputs), labels\n",
    "\n",
    "  return sequences.map(split_labels, num_parallel_calls=tf.data.AUTOTUNE)"
   ]
  },
  {
   "cell_type": "code",
   "execution_count": 1054,
   "id": "010ab0a8",
   "metadata": {},
   "outputs": [
    {
     "data": {
      "text/plain": [
       "(TensorSpec(shape=(25, 3), dtype=tf.float64, name=None),\n",
       " {'pitch': TensorSpec(shape=(), dtype=tf.float64, name=None),\n",
       "  'step': TensorSpec(shape=(), dtype=tf.float64, name=None),\n",
       "  'duration': TensorSpec(shape=(), dtype=tf.float64, name=None)})"
      ]
     },
     "execution_count": 1054,
     "metadata": {},
     "output_type": "execute_result"
    }
   ],
   "source": [
    "seq_length = 25\n",
    "vocab_size = 128\n",
    "seq_ds = create_sequences(notes_ds, seq_length, vocab_size)\n",
    "seq_ds.element_spec"
   ]
  },
  {
   "cell_type": "code",
   "execution_count": 1055,
   "id": "8f87a78d",
   "metadata": {
    "scrolled": true
   },
   "outputs": [
    {
     "name": "stdout",
     "output_type": "stream",
     "text": [
      "sequence shape: (25, 3)\n",
      "sequence elements (first 10): tf.Tensor(\n",
      "[[0.46875   0.        0.25     ]\n",
      " [0.4921875 0.        1.       ]\n",
      " [0.4296875 0.25      0.25     ]\n",
      " [0.46875   0.25      0.25     ]\n",
      " [0.4296875 0.25      0.25     ]\n",
      " [0.46875   0.25      0.25     ]\n",
      " [0.4921875 0.        1.       ]\n",
      " [0.4296875 0.25      0.25     ]\n",
      " [0.46875   0.25      0.25     ]\n",
      " [0.4296875 0.25      0.25     ]], shape=(10, 3), dtype=float64)\n",
      "\n",
      "target: {'pitch': <tf.Tensor: shape=(), dtype=float64, numpy=58.0>, 'step': <tf.Tensor: shape=(), dtype=float64, numpy=0.25>, 'duration': <tf.Tensor: shape=(), dtype=float64, numpy=0.25>}\n"
     ]
    }
   ],
   "source": [
    "for seq, target in seq_ds.take(1):\n",
    "  print('sequence shape:', seq.shape)\n",
    "  print('sequence elements (first 10):', seq[0: 10])\n",
    "  print()\n",
    "  print('target:', target)"
   ]
  },
  {
   "cell_type": "code",
   "execution_count": 1056,
   "id": "41613d25",
   "metadata": {},
   "outputs": [],
   "source": [
    "batch_size = 64\n",
    "buffer_size = n_notes - seq_length  # the number of items in the dataset\n",
    "train_ds = (seq_ds\n",
    "            .shuffle(buffer_size)\n",
    "            .batch(batch_size, drop_remainder=True)\n",
    "            .cache()\n",
    "            .prefetch(tf.data.experimental.AUTOTUNE))"
   ]
  },
  {
   "cell_type": "code",
   "execution_count": 1057,
   "id": "f8904074",
   "metadata": {},
   "outputs": [
    {
     "data": {
      "text/plain": [
       "(TensorSpec(shape=(64, 25, 3), dtype=tf.float64, name=None),\n",
       " {'pitch': TensorSpec(shape=(64,), dtype=tf.float64, name=None),\n",
       "  'step': TensorSpec(shape=(64,), dtype=tf.float64, name=None),\n",
       "  'duration': TensorSpec(shape=(64,), dtype=tf.float64, name=None)})"
      ]
     },
     "execution_count": 1057,
     "metadata": {},
     "output_type": "execute_result"
    }
   ],
   "source": [
    "train_ds.element_spec"
   ]
  },
  {
   "cell_type": "code",
   "execution_count": 1058,
   "id": "066ba720",
   "metadata": {},
   "outputs": [],
   "source": [
    "def mse_with_positive_pressure(y_true: tf.Tensor, y_pred: tf.Tensor):\n",
    "  mse = (y_true - y_pred) ** 2\n",
    "  positive_pressure = 10 * tf.maximum(-y_pred, 0.0)\n",
    "  return tf.reduce_mean(mse + positive_pressure)"
   ]
  },
  {
   "cell_type": "code",
   "execution_count": 1059,
   "id": "0f48f220",
   "metadata": {},
   "outputs": [
    {
     "name": "stdout",
     "output_type": "stream",
     "text": [
      "Model: \"model_16\"\n",
      "__________________________________________________________________________________________________\n",
      " Layer (type)                   Output Shape         Param #     Connected to                     \n",
      "==================================================================================================\n",
      " input_17 (InputLayer)          [(None, 25, 3)]      0           []                               \n",
      "                                                                                                  \n",
      " lstm_16 (LSTM)                 (None, 128)          67584       ['input_17[0][0]']               \n",
      "                                                                                                  \n",
      " duration (Dense)               (None, 1)            129         ['lstm_16[0][0]']                \n",
      "                                                                                                  \n",
      " pitch (Dense)                  (None, 128)          16512       ['lstm_16[0][0]']                \n",
      "                                                                                                  \n",
      " step (Dense)                   (None, 1)            129         ['lstm_16[0][0]']                \n",
      "                                                                                                  \n",
      "==================================================================================================\n",
      "Total params: 84,354\n",
      "Trainable params: 84,354\n",
      "Non-trainable params: 0\n",
      "__________________________________________________________________________________________________\n"
     ]
    }
   ],
   "source": [
    "input_shape = (seq_length, 3)\n",
    "learning_rate = 0.005\n",
    "\n",
    "inputs = tf.keras.Input(input_shape)\n",
    "x = tf.keras.layers.LSTM(128)(inputs)\n",
    "\n",
    "outputs = {\n",
    "  'pitch': tf.keras.layers.Dense(128, name='pitch')(x),\n",
    "  'step': tf.keras.layers.Dense(1, name='step')(x),\n",
    "  'duration': tf.keras.layers.Dense(1, name='duration')(x),\n",
    "}\n",
    "\n",
    "model = tf.keras.Model(inputs, outputs)\n",
    "\n",
    "loss = {\n",
    "      'pitch': tf.keras.losses.SparseCategoricalCrossentropy(\n",
    "          from_logits=True),\n",
    "      'step': mse_with_positive_pressure,\n",
    "      'duration': mse_with_positive_pressure,\n",
    "}\n",
    "\n",
    "optimizer = tf.keras.optimizers.Adam(learning_rate=learning_rate)\n",
    "\n",
    "model.compile(loss=loss, optimizer=optimizer)\n",
    "\n",
    "model.summary()"
   ]
  },
  {
   "cell_type": "code",
   "execution_count": 1060,
   "id": "54c6243e",
   "metadata": {},
   "outputs": [
    {
     "name": "stdout",
     "output_type": "stream",
     "text": [
      "229/229 [==============================] - 5s 12ms/step - loss: 5.3105 - duration_loss: 0.2513 - pitch_loss: 4.8461 - step_loss: 0.2130\n"
     ]
    },
    {
     "data": {
      "text/plain": [
       "{'loss': 5.310512065887451,\n",
       " 'duration_loss': 0.2513445317745209,\n",
       " 'pitch_loss': 4.846120357513428,\n",
       " 'step_loss': 0.21304726600646973}"
      ]
     },
     "execution_count": 1060,
     "metadata": {},
     "output_type": "execute_result"
    }
   ],
   "source": [
    "losses = model.evaluate(train_ds, return_dict=True)\n",
    "losses"
   ]
  },
  {
   "cell_type": "code",
   "execution_count": 1061,
   "id": "648de53f",
   "metadata": {},
   "outputs": [],
   "source": [
    "model.compile(\n",
    "    loss=loss,\n",
    "    loss_weights={\n",
    "        'pitch': 0.05,\n",
    "        'step': 1.0,\n",
    "        'duration':1.0,\n",
    "    },\n",
    "    optimizer=optimizer,\n",
    ")"
   ]
  },
  {
   "cell_type": "code",
   "execution_count": 1062,
   "id": "859ad246",
   "metadata": {},
   "outputs": [
    {
     "name": "stdout",
     "output_type": "stream",
     "text": [
      "229/229 [==============================] - 4s 12ms/step - loss: 0.7067 - duration_loss: 0.2513 - pitch_loss: 4.8461 - step_loss: 0.2130\n"
     ]
    },
    {
     "data": {
      "text/plain": [
       "{'loss': 0.7066976428031921,\n",
       " 'duration_loss': 0.2513445317745209,\n",
       " 'pitch_loss': 4.846120357513428,\n",
       " 'step_loss': 0.21304726600646973}"
      ]
     },
     "execution_count": 1062,
     "metadata": {},
     "output_type": "execute_result"
    }
   ],
   "source": [
    "model.evaluate(train_ds, return_dict=True)"
   ]
  },
  {
   "cell_type": "code",
   "execution_count": 1063,
   "id": "178a6cb8",
   "metadata": {},
   "outputs": [],
   "source": [
    "callbacks = [\n",
    "    tf.keras.callbacks.ModelCheckpoint(\n",
    "        filepath='./training_checkpoints/ckpt_{epoch}',\n",
    "        save_weights_only=True),\n",
    "    tf.keras.callbacks.EarlyStopping(\n",
    "        monitor='loss',\n",
    "        patience=5,\n",
    "        verbose=1,\n",
    "        restore_best_weights=True),\n",
    "]"
   ]
  },
  {
   "cell_type": "code",
   "execution_count": 1064,
   "id": "9d3b65da",
   "metadata": {},
   "outputs": [
    {
     "name": "stdout",
     "output_type": "stream",
     "text": [
      "Epoch 1/100\n",
      "229/229 [==============================] - 11s 40ms/step - loss: 0.3960 - duration_loss: 0.0848 - pitch_loss: 3.8768 - step_loss: 0.1174\n",
      "Epoch 2/100\n",
      "229/229 [==============================] - 7s 32ms/step - loss: 0.3630 - duration_loss: 0.0782 - pitch_loss: 3.5597 - step_loss: 0.1068\n",
      "Epoch 3/100\n",
      "229/229 [==============================] - 8s 33ms/step - loss: 0.3513 - duration_loss: 0.0746 - pitch_loss: 3.5151 - step_loss: 0.1009\n",
      "Epoch 4/100\n",
      "229/229 [==============================] - 7s 31ms/step - loss: 0.3423 - duration_loss: 0.0705 - pitch_loss: 3.4663 - step_loss: 0.0984\n",
      "Epoch 5/100\n",
      "229/229 [==============================] - 7s 31ms/step - loss: 0.3257 - duration_loss: 0.0675 - pitch_loss: 3.3316 - step_loss: 0.0916\n",
      "Epoch 6/100\n",
      "229/229 [==============================] - 7s 32ms/step - loss: 0.3111 - duration_loss: 0.0650 - pitch_loss: 3.2058 - step_loss: 0.0859\n",
      "Epoch 7/100\n",
      "229/229 [==============================] - 7s 31ms/step - loss: 0.2986 - duration_loss: 0.0630 - pitch_loss: 3.0803 - step_loss: 0.0815\n",
      "Epoch 8/100\n",
      "229/229 [==============================] - 7s 32ms/step - loss: 0.2914 - duration_loss: 0.0613 - pitch_loss: 3.0190 - step_loss: 0.0791\n",
      "Epoch 9/100\n",
      "229/229 [==============================] - 7s 31ms/step - loss: 0.2797 - duration_loss: 0.0592 - pitch_loss: 2.8802 - step_loss: 0.0764\n",
      "Epoch 10/100\n",
      "229/229 [==============================] - 7s 31ms/step - loss: 0.2691 - duration_loss: 0.0572 - pitch_loss: 2.7543 - step_loss: 0.0742\n",
      "Epoch 11/100\n",
      "229/229 [==============================] - 7s 31ms/step - loss: 0.2573 - duration_loss: 0.0548 - pitch_loss: 2.6013 - step_loss: 0.0724\n",
      "Epoch 12/100\n",
      "229/229 [==============================] - 8s 36ms/step - loss: 0.2482 - duration_loss: 0.0532 - pitch_loss: 2.4767 - step_loss: 0.0711\n",
      "Epoch 13/100\n",
      "229/229 [==============================] - 8s 37ms/step - loss: 0.2375 - duration_loss: 0.0502 - pitch_loss: 2.3625 - step_loss: 0.0693\n",
      "Epoch 14/100\n",
      "229/229 [==============================] - 9s 39ms/step - loss: 0.2337 - duration_loss: 0.0493 - pitch_loss: 2.3070 - step_loss: 0.0690\n",
      "Epoch 15/100\n",
      "229/229 [==============================] - 13s 56ms/step - loss: 0.2219 - duration_loss: 0.0461 - pitch_loss: 2.1755 - step_loss: 0.0670\n",
      "Epoch 16/100\n",
      "229/229 [==============================] - 13s 56ms/step - loss: 0.2129 - duration_loss: 0.0445 - pitch_loss: 2.0885 - step_loss: 0.0640\n",
      "Epoch 17/100\n",
      "229/229 [==============================] - 11s 46ms/step - loss: 0.2026 - duration_loss: 0.0415 - pitch_loss: 1.9712 - step_loss: 0.0626\n",
      "Epoch 18/100\n",
      "229/229 [==============================] - 11s 49ms/step - loss: 0.1952 - duration_loss: 0.0399 - pitch_loss: 1.8888 - step_loss: 0.0609\n",
      "Epoch 19/100\n",
      "229/229 [==============================] - 11s 47ms/step - loss: 0.1934 - duration_loss: 0.0396 - pitch_loss: 1.8482 - step_loss: 0.0614\n",
      "Epoch 20/100\n",
      "229/229 [==============================] - 10s 44ms/step - loss: 0.1858 - duration_loss: 0.0386 - pitch_loss: 1.7731 - step_loss: 0.0586\n",
      "Epoch 21/100\n",
      "229/229 [==============================] - 10s 43ms/step - loss: 0.1799 - duration_loss: 0.0369 - pitch_loss: 1.7329 - step_loss: 0.0564\n",
      "Epoch 22/100\n",
      "229/229 [==============================] - 10s 44ms/step - loss: 0.1763 - duration_loss: 0.0344 - pitch_loss: 1.6291 - step_loss: 0.0605\n",
      "Epoch 23/100\n",
      "229/229 [==============================] - 11s 48ms/step - loss: 0.1664 - duration_loss: 0.0336 - pitch_loss: 1.5979 - step_loss: 0.0530\n",
      "Epoch 24/100\n",
      "229/229 [==============================] - 11s 48ms/step - loss: 0.1846 - duration_loss: 0.0389 - pitch_loss: 1.7684 - step_loss: 0.0573\n",
      "Epoch 25/100\n",
      "229/229 [==============================] - 11s 47ms/step - loss: 0.1711 - duration_loss: 0.0354 - pitch_loss: 1.6303 - step_loss: 0.0542\n",
      "Epoch 26/100\n",
      "229/229 [==============================] - 10s 44ms/step - loss: 0.1778 - duration_loss: 0.0362 - pitch_loss: 1.6531 - step_loss: 0.0590\n",
      "Epoch 27/100\n",
      "229/229 [==============================] - 10s 45ms/step - loss: 0.1641 - duration_loss: 0.0331 - pitch_loss: 1.5571 - step_loss: 0.0531\n",
      "Epoch 28/100\n",
      "229/229 [==============================] - 8s 33ms/step - loss: 0.1660 - duration_loss: 0.0342 - pitch_loss: 1.5838 - step_loss: 0.0526\n",
      "Epoch 29/100\n",
      "229/229 [==============================] - 7s 33ms/step - loss: 0.1731 - duration_loss: 0.0338 - pitch_loss: 1.5996 - step_loss: 0.0593\n",
      "Epoch 30/100\n",
      "229/229 [==============================] - 8s 37ms/step - loss: 0.1532 - duration_loss: 0.0312 - pitch_loss: 1.4588 - step_loss: 0.0491\n",
      "Epoch 31/100\n",
      "229/229 [==============================] - 7s 32ms/step - loss: 0.1526 - duration_loss: 0.0308 - pitch_loss: 1.4389 - step_loss: 0.0498\n",
      "Epoch 32/100\n",
      "229/229 [==============================] - 8s 34ms/step - loss: 0.1490 - duration_loss: 0.0305 - pitch_loss: 1.4129 - step_loss: 0.0478\n",
      "Epoch 33/100\n",
      "229/229 [==============================] - 8s 33ms/step - loss: 0.1393 - duration_loss: 0.0285 - pitch_loss: 1.3606 - step_loss: 0.0428\n",
      "Epoch 34/100\n",
      "229/229 [==============================] - 7s 32ms/step - loss: 0.1391 - duration_loss: 0.0279 - pitch_loss: 1.3521 - step_loss: 0.0436\n",
      "Epoch 35/100\n",
      "229/229 [==============================] - 7s 32ms/step - loss: 0.1288 - duration_loss: 0.0263 - pitch_loss: 1.2772 - step_loss: 0.0387\n",
      "Epoch 36/100\n",
      "229/229 [==============================] - 10s 45ms/step - loss: 0.1305 - duration_loss: 0.0273 - pitch_loss: 1.2845 - step_loss: 0.0390\n",
      "Epoch 37/100\n",
      "229/229 [==============================] - 13s 56ms/step - loss: 0.1615 - duration_loss: 0.0317 - pitch_loss: 1.4250 - step_loss: 0.0585\n",
      "Epoch 38/100\n",
      "229/229 [==============================] - 10s 46ms/step - loss: 0.1411 - duration_loss: 0.0286 - pitch_loss: 1.3281 - step_loss: 0.0461\n",
      "Epoch 39/100\n",
      "229/229 [==============================] - 13s 56ms/step - loss: 0.2048 - duration_loss: 0.0436 - pitch_loss: 2.0236 - step_loss: 0.0600\n",
      "Epoch 40/100\n",
      "229/229 [==============================] - ETA: 0s - loss: 0.1641 - duration_loss: 0.0326 - pitch_loss: 1.4596 - step_loss: 0.0585Restoring model weights from the end of the best epoch: 35.\n",
      "229/229 [==============================] - 10s 45ms/step - loss: 0.1641 - duration_loss: 0.0326 - pitch_loss: 1.4596 - step_loss: 0.0585\n",
      "Epoch 40: early stopping\n",
      "Wall time: 6min 8s\n"
     ]
    }
   ],
   "source": [
    "%%time\n",
    "epochs = 100\n",
    "\n",
    "history = model.fit(\n",
    "    train_ds,\n",
    "    epochs=epochs,\n",
    "    callbacks=callbacks,\n",
    ")"
   ]
  },
  {
   "cell_type": "code",
   "execution_count": 1065,
   "id": "ca081c40",
   "metadata": {},
   "outputs": [
    {
     "data": {
      "image/png": "[encoded data removed]",
      "text/plain": [
       "<Figure size 432x288 with 1 Axes>"
      ]
     },
     "metadata": {
      "needs_background": "light"
     },
     "output_type": "display_data"
    }
   ],
   "source": [
    "plt.plot(history.epoch, history.history['loss'], label='total loss')\n",
    "plt.show()"
   ]
  },
  {
   "cell_type": "code",
   "execution_count": 1066,
   "id": "27c9509c",
   "metadata": {},
   "outputs": [],
   "source": [
    "def predict_next_note(\n",
    "    notes: np.ndarray, \n",
    "    keras_model: tf.keras.Model, \n",
    "    temperature: float = 1.0) -> int:\n",
    "  \"\"\"Generates a note IDs using a trained sequence model.\"\"\"\n",
    "\n",
    "  assert temperature > 0\n",
    "\n",
    "  # Add batch dimension\n",
    "  inputs = tf.expand_dims(notes, 0)\n",
    "\n",
    "  predictions = model.predict(inputs)\n",
    "  pitch_logits = predictions['pitch']\n",
    "  step = predictions['step']\n",
    "  duration = predictions['duration']\n",
    " \n",
    "  pitch_logits /= temperature\n",
    "  pitch = tf.random.categorical(pitch_logits, num_samples=1)\n",
    "  pitch = tf.squeeze(pitch, axis=-1)\n",
    "  duration = tf.squeeze(duration, axis=-1)\n",
    "  step = tf.squeeze(step, axis=-1)\n",
    "\n",
    "  # `step` and `duration` values should be non-negative\n",
    "  step = tf.maximum(0, step)\n",
    "  duration = tf.maximum(0, duration)\n",
    "\n",
    "  return int(pitch), float(step), float(duration)"
   ]
  },
  {
   "cell_type": "code",
   "execution_count": 1076,
   "id": "96292337",
   "metadata": {},
   "outputs": [],
   "source": [
    "temperature = 37.0\n",
    "num_predictions = 300\n",
    "\n",
    "sample_notes = np.stack([raw_notes[key] for key in key_order], axis=1)\n",
    "\n",
    "# The initial sequence of notes; pitch is normalized similar to training\n",
    "# sequences\n",
    "input_notes = (\n",
    "    sample_notes[:seq_length] / np.array([vocab_size, 1, 1]))\n",
    "\n",
    "generated_notes = []\n",
    "prev_start = 0\n",
    "for _ in range(num_predictions):\n",
    "  pitch, step, duration = predict_next_note(input_notes, model, temperature)\n",
    "  start = prev_start + step\n",
    "  end = start + duration\n",
    "  input_note = (pitch, step, duration)\n",
    "  generated_notes.append((*input_note, start, end))\n",
    "  input_notes = np.delete(input_notes, 0, axis=0)\n",
    "  input_notes = np.append(input_notes, np.expand_dims(input_note, 0), axis=0)\n",
    "  prev_start = start\n",
    "\n",
    "generated_notes = pd.DataFrame(\n",
    "    generated_notes, columns=(*key_order, 'start', 'end'))"
   ]
  },
  {
   "cell_type": "code",
   "execution_count": 1077,
   "id": "fd47b63c",
   "metadata": {},
   "outputs": [
    {
     "data": {
      "text/html": [
       "<div>\n",
       "<style scoped>\n",
       "    .dataframe tbody tr th:only-of-type {\n",
       "        vertical-align: middle;\n",
       "    }\n",
       "\n",
       "    .dataframe tbody tr th {\n",
       "        vertical-align: top;\n",
       "    }\n",
       "\n",
       "    .dataframe thead th {\n",
       "        text-align: right;\n",
       "    }\n",
       "</style>\n",
       "<table border=\"1\" class=\"dataframe\">\n",
       "  <thead>\n",
       "    <tr style=\"text-align: right;\">\n",
       "      <th></th>\n",
       "      <th>pitch</th>\n",
       "      <th>step</th>\n",
       "      <th>duration</th>\n",
       "      <th>start</th>\n",
       "      <th>end</th>\n",
       "    </tr>\n",
       "  </thead>\n",
       "  <tbody>\n",
       "    <tr>\n",
       "      <th>0</th>\n",
       "      <td>61</td>\n",
       "      <td>0.317881</td>\n",
       "      <td>0.213279</td>\n",
       "      <td>0.317881</td>\n",
       "      <td>0.531160</td>\n",
       "    </tr>\n",
       "    <tr>\n",
       "      <th>1</th>\n",
       "      <td>112</td>\n",
       "      <td>0.000000</td>\n",
       "      <td>0.497020</td>\n",
       "      <td>0.317881</td>\n",
       "      <td>0.814901</td>\n",
       "    </tr>\n",
       "    <tr>\n",
       "      <th>2</th>\n",
       "      <td>12</td>\n",
       "      <td>0.000000</td>\n",
       "      <td>0.497916</td>\n",
       "      <td>0.317881</td>\n",
       "      <td>0.815797</td>\n",
       "    </tr>\n",
       "    <tr>\n",
       "      <th>3</th>\n",
       "      <td>76</td>\n",
       "      <td>0.404448</td>\n",
       "      <td>0.305050</td>\n",
       "      <td>0.722329</td>\n",
       "      <td>1.027380</td>\n",
       "    </tr>\n",
       "    <tr>\n",
       "      <th>4</th>\n",
       "      <td>64</td>\n",
       "      <td>0.000000</td>\n",
       "      <td>0.656184</td>\n",
       "      <td>0.722329</td>\n",
       "      <td>1.378513</td>\n",
       "    </tr>\n",
       "    <tr>\n",
       "      <th>5</th>\n",
       "      <td>58</td>\n",
       "      <td>0.216674</td>\n",
       "      <td>0.754809</td>\n",
       "      <td>0.939003</td>\n",
       "      <td>1.693812</td>\n",
       "    </tr>\n",
       "    <tr>\n",
       "      <th>6</th>\n",
       "      <td>43</td>\n",
       "      <td>0.241131</td>\n",
       "      <td>0.791420</td>\n",
       "      <td>1.180134</td>\n",
       "      <td>1.971553</td>\n",
       "    </tr>\n",
       "    <tr>\n",
       "      <th>7</th>\n",
       "      <td>46</td>\n",
       "      <td>0.273317</td>\n",
       "      <td>0.811550</td>\n",
       "      <td>1.453451</td>\n",
       "      <td>2.265001</td>\n",
       "    </tr>\n",
       "    <tr>\n",
       "      <th>8</th>\n",
       "      <td>32</td>\n",
       "      <td>0.289206</td>\n",
       "      <td>0.894579</td>\n",
       "      <td>1.742657</td>\n",
       "      <td>2.637236</td>\n",
       "    </tr>\n",
       "    <tr>\n",
       "      <th>9</th>\n",
       "      <td>97</td>\n",
       "      <td>0.297449</td>\n",
       "      <td>0.904312</td>\n",
       "      <td>2.040106</td>\n",
       "      <td>2.944418</td>\n",
       "    </tr>\n",
       "    <tr>\n",
       "      <th>10</th>\n",
       "      <td>65</td>\n",
       "      <td>0.288680</td>\n",
       "      <td>1.110249</td>\n",
       "      <td>2.328786</td>\n",
       "      <td>3.439035</td>\n",
       "    </tr>\n",
       "    <tr>\n",
       "      <th>11</th>\n",
       "      <td>7</td>\n",
       "      <td>0.324707</td>\n",
       "      <td>1.017691</td>\n",
       "      <td>2.653493</td>\n",
       "      <td>3.671185</td>\n",
       "    </tr>\n",
       "    <tr>\n",
       "      <th>12</th>\n",
       "      <td>70</td>\n",
       "      <td>0.267283</td>\n",
       "      <td>0.807143</td>\n",
       "      <td>2.920777</td>\n",
       "      <td>3.727920</td>\n",
       "    </tr>\n",
       "    <tr>\n",
       "      <th>13</th>\n",
       "      <td>24</td>\n",
       "      <td>0.388484</td>\n",
       "      <td>1.249374</td>\n",
       "      <td>3.309260</td>\n",
       "      <td>4.558634</td>\n",
       "    </tr>\n",
       "    <tr>\n",
       "      <th>14</th>\n",
       "      <td>124</td>\n",
       "      <td>0.338033</td>\n",
       "      <td>1.151910</td>\n",
       "      <td>3.647294</td>\n",
       "      <td>4.799204</td>\n",
       "    </tr>\n",
       "    <tr>\n",
       "      <th>15</th>\n",
       "      <td>64</td>\n",
       "      <td>0.318339</td>\n",
       "      <td>1.448870</td>\n",
       "      <td>3.965633</td>\n",
       "      <td>5.414503</td>\n",
       "    </tr>\n",
       "    <tr>\n",
       "      <th>16</th>\n",
       "      <td>68</td>\n",
       "      <td>0.378555</td>\n",
       "      <td>1.255210</td>\n",
       "      <td>4.344188</td>\n",
       "      <td>5.599398</td>\n",
       "    </tr>\n",
       "    <tr>\n",
       "      <th>17</th>\n",
       "      <td>10</td>\n",
       "      <td>0.424414</td>\n",
       "      <td>1.202727</td>\n",
       "      <td>4.768603</td>\n",
       "      <td>5.971329</td>\n",
       "    </tr>\n",
       "    <tr>\n",
       "      <th>18</th>\n",
       "      <td>127</td>\n",
       "      <td>0.268792</td>\n",
       "      <td>0.942670</td>\n",
       "      <td>5.037395</td>\n",
       "      <td>5.980064</td>\n",
       "    </tr>\n",
       "    <tr>\n",
       "      <th>19</th>\n",
       "      <td>36</td>\n",
       "      <td>0.401551</td>\n",
       "      <td>1.407813</td>\n",
       "      <td>5.438946</td>\n",
       "      <td>6.846759</td>\n",
       "    </tr>\n",
       "  </tbody>\n",
       "</table>\n",
       "</div>"
      ],
      "text/plain": [
       "    pitch      step  duration     start       end\n",
       "0      61  0.317881  0.213279  0.317881  0.531160\n",
       "1     112  0.000000  0.497020  0.317881  0.814901\n",
       "2      12  0.000000  0.497916  0.317881  0.815797\n",
       "3      76  0.404448  0.305050  0.722329  1.027380\n",
       "4      64  0.000000  0.656184  0.722329  1.378513\n",
       "5      58  0.216674  0.754809  0.939003  1.693812\n",
       "6      43  0.241131  0.791420  1.180134  1.971553\n",
       "7      46  0.273317  0.811550  1.453451  2.265001\n",
       "8      32  0.289206  0.894579  1.742657  2.637236\n",
       "9      97  0.297449  0.904312  2.040106  2.944418\n",
       "10     65  0.288680  1.110249  2.328786  3.439035\n",
       "11      7  0.324707  1.017691  2.653493  3.671185\n",
       "12     70  0.267283  0.807143  2.920777  3.727920\n",
       "13     24  0.388484  1.249374  3.309260  4.558634\n",
       "14    124  0.338033  1.151910  3.647294  4.799204\n",
       "15     64  0.318339  1.448870  3.965633  5.414503\n",
       "16     68  0.378555  1.255210  4.344188  5.599398\n",
       "17     10  0.424414  1.202727  4.768603  5.971329\n",
       "18    127  0.268792  0.942670  5.037395  5.980064\n",
       "19     36  0.401551  1.407813  5.438946  6.846759"
      ]
     },
     "execution_count": 1077,
     "metadata": {},
     "output_type": "execute_result"
    }
   ],
   "source": [
    "generated_notes.head(20)"
   ]
  },
  {
   "cell_type": "code",
   "execution_count": 1078,
   "id": "e9c1e523",
   "metadata": {},
   "outputs": [
    {
     "data": {
      "text/html": [
       "<a href='output.mid' target='_blank'>output.mid</a><br>"
      ],
      "text/plain": [
       "C:\\Users\\hksca\\OneDrive\\Python\\output.mid"
      ]
     },
     "execution_count": 1078,
     "metadata": {},
     "output_type": "execute_result"
    }
   ],
   "source": [
    "out_file = 'output.mid'\n",
    "out_pm = notes_to_midi(\n",
    "    generated_notes, out_file=out_file, instrument_name=instrument_name)\n",
    "#display_audio(out_pm)\n",
    "from IPython.display import FileLink\n",
    "FileLink(out_file)\n",
    "#from google.colab import files\n",
    "#files.download(out_file)\n"
   ]
  },
  {
   "cell_type": "code",
   "execution_count": 600,
   "id": "92e915cc",
   "metadata": {},
   "outputs": [],
   "source": [
    "def display_audio(pm: pretty_midi.PrettyMIDI,seconds=30):\n",
    "    waveform=pm.fluidsynth(fs=_SAMPLING_RATE)\n",
    "    #Take a sample of the generated waveform to mitigate kernel resets\n",
    "    waveform_short=waveform[:seconds*_SAMPLING_RATE]\n",
    "    return display.Audio(waveform_short, rate=_SAMPLING_RATE)"
   ]
  },
  {
   "cell_type": "code",
   "execution_count": null,
   "id": "7cecb83e",
   "metadata": {},
   "outputs": [],
   "source": []
  },
  {
   "cell_type": "code",
   "execution_count": 62,
   "id": "835eb5e0",
   "metadata": {},
   "outputs": [
    {
     "ename": "AttributeError",
     "evalue": "module 'fluidsynth' has no attribute 'Synth'",
     "output_type": "error",
     "traceback": [
      "\u001b[1;31m---------------------------------------------------------------------------\u001b[0m",
      "\u001b[1;31mAttributeError\u001b[0m                            Traceback (most recent call last)",
      "\u001b[1;32m~\\AppData\\Local\\Temp/ipykernel_15172/4108125448.py\u001b[0m in \u001b[0;36m<module>\u001b[1;34m\u001b[0m\n\u001b[1;32m----> 1\u001b[1;33m \u001b[0mdisplay_audio\u001b[0m\u001b[1;33m(\u001b[0m\u001b[0mpm\u001b[0m\u001b[1;33m)\u001b[0m\u001b[1;33m\u001b[0m\u001b[1;33m\u001b[0m\u001b[0m\n\u001b[0m",
      "\u001b[1;32m~\\AppData\\Local\\Temp/ipykernel_15172/2492711769.py\u001b[0m in \u001b[0;36mdisplay_audio\u001b[1;34m(pm, seconds)\u001b[0m\n\u001b[0;32m      1\u001b[0m \u001b[1;32mdef\u001b[0m \u001b[0mdisplay_audio\u001b[0m\u001b[1;33m(\u001b[0m\u001b[0mpm\u001b[0m\u001b[1;33m:\u001b[0m \u001b[0mpretty_midi\u001b[0m\u001b[1;33m.\u001b[0m\u001b[0mPrettyMIDI\u001b[0m\u001b[1;33m,\u001b[0m\u001b[0mseconds\u001b[0m\u001b[1;33m=\u001b[0m\u001b[1;36m30\u001b[0m\u001b[1;33m)\u001b[0m\u001b[1;33m:\u001b[0m\u001b[1;33m\u001b[0m\u001b[1;33m\u001b[0m\u001b[0m\n\u001b[1;32m----> 2\u001b[1;33m     \u001b[0mwaveform\u001b[0m\u001b[1;33m=\u001b[0m\u001b[0mpm\u001b[0m\u001b[1;33m.\u001b[0m\u001b[0mfluidsynth\u001b[0m\u001b[1;33m(\u001b[0m\u001b[0mfs\u001b[0m\u001b[1;33m=\u001b[0m\u001b[0m_SAMPLING_RATE\u001b[0m\u001b[1;33m)\u001b[0m\u001b[1;33m\u001b[0m\u001b[1;33m\u001b[0m\u001b[0m\n\u001b[0m\u001b[0;32m      3\u001b[0m     \u001b[1;31m#Take a sample of the generated waveform to mitigate kernel resets\u001b[0m\u001b[1;33m\u001b[0m\u001b[1;33m\u001b[0m\u001b[0m\n\u001b[0;32m      4\u001b[0m     \u001b[0mwaveform_short\u001b[0m\u001b[1;33m=\u001b[0m\u001b[0mwaveform\u001b[0m\u001b[1;33m[\u001b[0m\u001b[1;33m:\u001b[0m\u001b[0mseconds\u001b[0m\u001b[1;33m*\u001b[0m\u001b[0m_SAMPLING_RATE\u001b[0m\u001b[1;33m]\u001b[0m\u001b[1;33m\u001b[0m\u001b[1;33m\u001b[0m\u001b[0m\n\u001b[0;32m      5\u001b[0m     \u001b[1;32mreturn\u001b[0m \u001b[0mdisplay\u001b[0m\u001b[1;33m.\u001b[0m\u001b[0mAudio\u001b[0m\u001b[1;33m(\u001b[0m\u001b[0mwaveform_short\u001b[0m\u001b[1;33m,\u001b[0m \u001b[0mrate\u001b[0m\u001b[1;33m=\u001b[0m\u001b[0m_SAMPLING_RATE\u001b[0m\u001b[1;33m)\u001b[0m\u001b[1;33m\u001b[0m\u001b[1;33m\u001b[0m\u001b[0m\n",
      "\u001b[1;32mC:\\Anaconda\\anaconda\\lib\\site-packages\\pretty_midi\\pretty_midi.py\u001b[0m in \u001b[0;36mfluidsynth\u001b[1;34m(self, fs, sf2_path)\u001b[0m\n\u001b[0;32m    943\u001b[0m             \u001b[1;32mreturn\u001b[0m \u001b[0mnp\u001b[0m\u001b[1;33m.\u001b[0m\u001b[0marray\u001b[0m\u001b[1;33m(\u001b[0m\u001b[1;33m[\u001b[0m\u001b[1;33m]\u001b[0m\u001b[1;33m)\u001b[0m\u001b[1;33m\u001b[0m\u001b[1;33m\u001b[0m\u001b[0m\n\u001b[0;32m    944\u001b[0m         \u001b[1;31m# Get synthesized waveform for each instrument\u001b[0m\u001b[1;33m\u001b[0m\u001b[1;33m\u001b[0m\u001b[0m\n\u001b[1;32m--> 945\u001b[1;33m         waveforms = [i.fluidsynth(fs=fs,\n\u001b[0m\u001b[0;32m    946\u001b[0m                                   sf2_path=sf2_path) for i in self.instruments]\n\u001b[0;32m    947\u001b[0m         \u001b[1;31m# Allocate output waveform, with #sample = max length of all waveforms\u001b[0m\u001b[1;33m\u001b[0m\u001b[1;33m\u001b[0m\u001b[0m\n",
      "\u001b[1;32mC:\\Anaconda\\anaconda\\lib\\site-packages\\pretty_midi\\pretty_midi.py\u001b[0m in \u001b[0;36m<listcomp>\u001b[1;34m(.0)\u001b[0m\n\u001b[0;32m    943\u001b[0m             \u001b[1;32mreturn\u001b[0m \u001b[0mnp\u001b[0m\u001b[1;33m.\u001b[0m\u001b[0marray\u001b[0m\u001b[1;33m(\u001b[0m\u001b[1;33m[\u001b[0m\u001b[1;33m]\u001b[0m\u001b[1;33m)\u001b[0m\u001b[1;33m\u001b[0m\u001b[1;33m\u001b[0m\u001b[0m\n\u001b[0;32m    944\u001b[0m         \u001b[1;31m# Get synthesized waveform for each instrument\u001b[0m\u001b[1;33m\u001b[0m\u001b[1;33m\u001b[0m\u001b[0m\n\u001b[1;32m--> 945\u001b[1;33m         waveforms = [i.fluidsynth(fs=fs,\n\u001b[0m\u001b[0;32m    946\u001b[0m                                   sf2_path=sf2_path) for i in self.instruments]\n\u001b[0;32m    947\u001b[0m         \u001b[1;31m# Allocate output waveform, with #sample = max length of all waveforms\u001b[0m\u001b[1;33m\u001b[0m\u001b[1;33m\u001b[0m\u001b[0m\n",
      "\u001b[1;32mC:\\Anaconda\\anaconda\\lib\\site-packages\\pretty_midi\\instrument.py\u001b[0m in \u001b[0;36mfluidsynth\u001b[1;34m(self, fs, sf2_path)\u001b[0m\n\u001b[0;32m    466\u001b[0m \u001b[1;33m\u001b[0m\u001b[0m\n\u001b[0;32m    467\u001b[0m         \u001b[1;31m# Create fluidsynth instance\u001b[0m\u001b[1;33m\u001b[0m\u001b[1;33m\u001b[0m\u001b[0m\n\u001b[1;32m--> 468\u001b[1;33m         \u001b[0mfl\u001b[0m \u001b[1;33m=\u001b[0m \u001b[0mfluidsynth\u001b[0m\u001b[1;33m.\u001b[0m\u001b[0mSynth\u001b[0m\u001b[1;33m(\u001b[0m\u001b[0msamplerate\u001b[0m\u001b[1;33m=\u001b[0m\u001b[0mfs\u001b[0m\u001b[1;33m)\u001b[0m\u001b[1;33m\u001b[0m\u001b[1;33m\u001b[0m\u001b[0m\n\u001b[0m\u001b[0;32m    469\u001b[0m         \u001b[1;31m# Load in the soundfont\u001b[0m\u001b[1;33m\u001b[0m\u001b[1;33m\u001b[0m\u001b[0m\n\u001b[0;32m    470\u001b[0m         \u001b[0msfid\u001b[0m \u001b[1;33m=\u001b[0m \u001b[0mfl\u001b[0m\u001b[1;33m.\u001b[0m\u001b[0msfload\u001b[0m\u001b[1;33m(\u001b[0m\u001b[0msf2_path\u001b[0m\u001b[1;33m)\u001b[0m\u001b[1;33m\u001b[0m\u001b[1;33m\u001b[0m\u001b[0m\n",
      "\u001b[1;31mAttributeError\u001b[0m: module 'fluidsynth' has no attribute 'Synth'"
     ]
    }
   ],
   "source": [
    "display_audio(pm)"
   ]
  },
  {
   "cell_type": "code",
   "execution_count": null,
   "id": "1e4c0216",
   "metadata": {},
   "outputs": [],
   "source": []
  }
 ],
 "metadata": {
  "kernelspec": {
   "display_name": "Python 3 (ipykernel)",
   "language": "python",
   "name": "python3"
  },
  "language_info": {
   "codemirror_mode": {
    "name": "ipython",
    "version": 3
   },
   "file_extension": ".py",
   "mimetype": "text/x-python",
   "name": "python",
   "nbconvert_exporter": "python",
   "pygments_lexer": "ipython3",
   "version": "3.9.7"
  }
 },
 "nbformat": 4,
 "nbformat_minor": 5
}
